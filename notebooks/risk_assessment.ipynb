{
 "cells": [
  {
   "cell_type": "code",
   "execution_count": 26,
   "metadata": {},
   "outputs": [],
   "source": [
    "import pandas as pd\n",
    "import numpy as np\n",
    "\n",
    "import matplotlib.pyplot as plt\n",
    "import folium\n",
    "import plotly.express as px\n",
    "import plotly.graph_objs as go\n",
    "from folium.plugins import MarkerCluster\n",
    "import plotly.io as pio\n",
    "from plotly.subplots import make_subplots\n",
    "from config import PROJECT_ROOT\n",
    "\n",
    "import sys\n",
    "sys.path.append(PROJECT_ROOT)"
   ]
  },
  {
   "cell_type": "code",
   "execution_count": 3,
   "metadata": {},
   "outputs": [],
   "source": [
    "from src.utils.data_loader import load_data\n",
    "from src.models.risk_assessment import DengueRiskAssessment"
   ]
  },
  {
   "cell_type": "code",
   "execution_count": 4,
   "metadata": {},
   "outputs": [],
   "source": [
    "data = load_data('data/featured_data.csv')"
   ]
  },
  {
   "cell_type": "code",
   "execution_count": 5,
   "metadata": {},
   "outputs": [],
   "source": [
    "# Risk assessment\n",
    "risk = DengueRiskAssessment(data)"
   ]
  },
  {
   "cell_type": "code",
   "execution_count": 6,
   "metadata": {},
   "outputs": [],
   "source": [
    "# Calculate city risk scores\n",
    "city_risks = risk.calculate_city_risk_scores()"
   ]
  },
  {
   "cell_type": "code",
   "execution_count": 27,
   "metadata": {},
   "outputs": [
    {
     "data": {
      "text/html": [
       "<div>\n",
       "<style scoped>\n",
       "    .dataframe tbody tr th:only-of-type {\n",
       "        vertical-align: middle;\n",
       "    }\n",
       "\n",
       "    .dataframe tbody tr th {\n",
       "        vertical-align: top;\n",
       "    }\n",
       "\n",
       "    .dataframe thead th {\n",
       "        text-align: right;\n",
       "    }\n",
       "</style>\n",
       "<table border=\"1\" class=\"dataframe\">\n",
       "  <thead>\n",
       "    <tr style=\"text-align: right;\">\n",
       "      <th></th>\n",
       "      <th>city</th>\n",
       "      <th>precipitation_sum_7d_std_mean</th>\n",
       "      <th>precipitation_sum_7d_std_std</th>\n",
       "      <th>wind_speed_10m_max_7d_std_mean</th>\n",
       "      <th>wind_speed_10m_max_7d_std_std</th>\n",
       "      <th>temperature_2m_min_7d_std_mean</th>\n",
       "      <th>temperature_2m_min_7d_std_std</th>\n",
       "      <th>temperature_2m_max_14d_std_mean</th>\n",
       "      <th>temperature_2m_max_14d_std_std</th>\n",
       "      <th>temperature_2m_min_14d_std_mean</th>\n",
       "      <th>...</th>\n",
       "      <th>wind_speed_10m_max_14d_std_std</th>\n",
       "      <th>wind_speed_10m_max_mean</th>\n",
       "      <th>wind_speed_10m_max_std</th>\n",
       "      <th>precipitation_sum_mean</th>\n",
       "      <th>precipitation_sum_std</th>\n",
       "      <th>arbovirus_bool_mean</th>\n",
       "      <th>arbovirus_bool_sum</th>\n",
       "      <th>arbovirus_bool_count</th>\n",
       "      <th>risk_score</th>\n",
       "      <th>risk_category</th>\n",
       "    </tr>\n",
       "  </thead>\n",
       "  <tbody>\n",
       "    <tr>\n",
       "      <th>0</th>\n",
       "      <td>Beyla</td>\n",
       "      <td>6.792207</td>\n",
       "      <td>9.257226</td>\n",
       "      <td>0.767717</td>\n",
       "      <td>0.686001</td>\n",
       "      <td>1.080136</td>\n",
       "      <td>1.078934</td>\n",
       "      <td>0.948322</td>\n",
       "      <td>0.672778</td>\n",
       "      <td>1.344872</td>\n",
       "      <td>...</td>\n",
       "      <td>0.677103</td>\n",
       "      <td>4.746825</td>\n",
       "      <td>2.865456</td>\n",
       "      <td>37.349376</td>\n",
       "      <td>33.352300</td>\n",
       "      <td>0.148019</td>\n",
       "      <td>1188.0</td>\n",
       "      <td>8026</td>\n",
       "      <td>44.489289</td>\n",
       "      <td>Low</td>\n",
       "    </tr>\n",
       "    <tr>\n",
       "      <th>1</th>\n",
       "      <td>Boffa</td>\n",
       "      <td>6.495785</td>\n",
       "      <td>9.023522</td>\n",
       "      <td>0.734569</td>\n",
       "      <td>0.678349</td>\n",
       "      <td>1.049531</td>\n",
       "      <td>1.072819</td>\n",
       "      <td>0.908184</td>\n",
       "      <td>0.637215</td>\n",
       "      <td>1.336106</td>\n",
       "      <td>...</td>\n",
       "      <td>0.663722</td>\n",
       "      <td>4.398668</td>\n",
       "      <td>2.786114</td>\n",
       "      <td>39.950127</td>\n",
       "      <td>32.088706</td>\n",
       "      <td>0.151047</td>\n",
       "      <td>1212.0</td>\n",
       "      <td>8024</td>\n",
       "      <td>36.363069</td>\n",
       "      <td>Low</td>\n",
       "    </tr>\n",
       "    <tr>\n",
       "      <th>2</th>\n",
       "      <td>Boké</td>\n",
       "      <td>4.920412</td>\n",
       "      <td>8.248185</td>\n",
       "      <td>0.574320</td>\n",
       "      <td>0.666909</td>\n",
       "      <td>0.820264</td>\n",
       "      <td>1.047135</td>\n",
       "      <td>0.770007</td>\n",
       "      <td>0.710950</td>\n",
       "      <td>1.080947</td>\n",
       "      <td>...</td>\n",
       "      <td>0.706601</td>\n",
       "      <td>4.005209</td>\n",
       "      <td>2.733598</td>\n",
       "      <td>45.711266</td>\n",
       "      <td>33.425973</td>\n",
       "      <td>0.207423</td>\n",
       "      <td>2079.0</td>\n",
       "      <td>10023</td>\n",
       "      <td>0.000000</td>\n",
       "      <td>Low</td>\n",
       "    </tr>\n",
       "    <tr>\n",
       "      <th>3</th>\n",
       "      <td>Conakry</td>\n",
       "      <td>7.202122</td>\n",
       "      <td>9.507440</td>\n",
       "      <td>0.773294</td>\n",
       "      <td>0.677789</td>\n",
       "      <td>1.193424</td>\n",
       "      <td>1.143190</td>\n",
       "      <td>0.937832</td>\n",
       "      <td>0.674591</td>\n",
       "      <td>1.411237</td>\n",
       "      <td>...</td>\n",
       "      <td>0.673971</td>\n",
       "      <td>5.782541</td>\n",
       "      <td>2.829314</td>\n",
       "      <td>24.030631</td>\n",
       "      <td>29.438856</td>\n",
       "      <td>0.036748</td>\n",
       "      <td>268.0</td>\n",
       "      <td>7293</td>\n",
       "      <td>56.278800</td>\n",
       "      <td>Low</td>\n",
       "    </tr>\n",
       "    <tr>\n",
       "      <th>4</th>\n",
       "      <td>Coyah</td>\n",
       "      <td>7.208147</td>\n",
       "      <td>9.674492</td>\n",
       "      <td>0.773876</td>\n",
       "      <td>0.705367</td>\n",
       "      <td>1.171853</td>\n",
       "      <td>1.165470</td>\n",
       "      <td>0.922161</td>\n",
       "      <td>0.690057</td>\n",
       "      <td>1.413166</td>\n",
       "      <td>...</td>\n",
       "      <td>0.697742</td>\n",
       "      <td>5.926860</td>\n",
       "      <td>2.911721</td>\n",
       "      <td>23.895815</td>\n",
       "      <td>29.531488</td>\n",
       "      <td>0.063529</td>\n",
       "      <td>440.0</td>\n",
       "      <td>6926</td>\n",
       "      <td>55.722811</td>\n",
       "      <td>Low</td>\n",
       "    </tr>\n",
       "  </tbody>\n",
       "</table>\n",
       "<p>5 rows × 26 columns</p>\n",
       "</div>"
      ],
      "text/plain": [
       "      city  precipitation_sum_7d_std_mean  precipitation_sum_7d_std_std  \\\n",
       "0    Beyla                       6.792207                      9.257226   \n",
       "1    Boffa                       6.495785                      9.023522   \n",
       "2     Boké                       4.920412                      8.248185   \n",
       "3  Conakry                       7.202122                      9.507440   \n",
       "4    Coyah                       7.208147                      9.674492   \n",
       "\n",
       "   wind_speed_10m_max_7d_std_mean  wind_speed_10m_max_7d_std_std  \\\n",
       "0                        0.767717                       0.686001   \n",
       "1                        0.734569                       0.678349   \n",
       "2                        0.574320                       0.666909   \n",
       "3                        0.773294                       0.677789   \n",
       "4                        0.773876                       0.705367   \n",
       "\n",
       "   temperature_2m_min_7d_std_mean  temperature_2m_min_7d_std_std  \\\n",
       "0                        1.080136                       1.078934   \n",
       "1                        1.049531                       1.072819   \n",
       "2                        0.820264                       1.047135   \n",
       "3                        1.193424                       1.143190   \n",
       "4                        1.171853                       1.165470   \n",
       "\n",
       "   temperature_2m_max_14d_std_mean  temperature_2m_max_14d_std_std  \\\n",
       "0                         0.948322                        0.672778   \n",
       "1                         0.908184                        0.637215   \n",
       "2                         0.770007                        0.710950   \n",
       "3                         0.937832                        0.674591   \n",
       "4                         0.922161                        0.690057   \n",
       "\n",
       "   temperature_2m_min_14d_std_mean  ...  wind_speed_10m_max_14d_std_std  \\\n",
       "0                         1.344872  ...                        0.677103   \n",
       "1                         1.336106  ...                        0.663722   \n",
       "2                         1.080947  ...                        0.706601   \n",
       "3                         1.411237  ...                        0.673971   \n",
       "4                         1.413166  ...                        0.697742   \n",
       "\n",
       "   wind_speed_10m_max_mean  wind_speed_10m_max_std  precipitation_sum_mean  \\\n",
       "0                 4.746825                2.865456               37.349376   \n",
       "1                 4.398668                2.786114               39.950127   \n",
       "2                 4.005209                2.733598               45.711266   \n",
       "3                 5.782541                2.829314               24.030631   \n",
       "4                 5.926860                2.911721               23.895815   \n",
       "\n",
       "   precipitation_sum_std  arbovirus_bool_mean  arbovirus_bool_sum  \\\n",
       "0              33.352300          0.148019           1188.0   \n",
       "1              32.088706          0.151047           1212.0   \n",
       "2              33.425973          0.207423           2079.0   \n",
       "3              29.438856          0.036748            268.0   \n",
       "4              29.531488          0.063529            440.0   \n",
       "\n",
       "   arbovirus_bool_count  risk_score  risk_category  \n",
       "0               8026   44.489289            Low  \n",
       "1               8024   36.363069            Low  \n",
       "2              10023    0.000000            Low  \n",
       "3               7293   56.278800            Low  \n",
       "4               6926   55.722811            Low  \n",
       "\n",
       "[5 rows x 26 columns]"
      ]
     },
     "execution_count": 27,
     "metadata": {},
     "output_type": "execute_result"
    }
   ],
   "source": [
    "city_risks.head()"
   ]
  },
  {
   "cell_type": "code",
   "execution_count": null,
   "metadata": {},
   "outputs": [],
   "source": [
    "risk_report = risk.generate_risk_report()"
   ]
  },
  {
   "cell_type": "code",
   "execution_count": 12,
   "metadata": {},
   "outputs": [],
   "source": [
    "cities_info = load_csv('data/cities_info.csv')\n",
    "\n",
    "# Merge datasets on the 'city' column\n",
    "risk_df = pd.merge(city_risks, cities_info[['city', 'latitude', 'longitude']], on='city', how='left')"
   ]
  },
  {
   "cell_type": "code",
   "execution_count": 14,
   "metadata": {},
   "outputs": [],
   "source": [
    "from src.visualization.risk_viz import create_folium_risk_map, create_interactive_risk_choropleth, risk_correlations, weather_impact_analysis"
   ]
  },
  {
   "cell_type": "code",
   "execution_count": 21,
   "metadata": {},
   "outputs": [
    {
     "data": {
      "image/png": "[encoded data removed]",
      "text/plain": [
       "<Figure size 1000x600 with 1 Axes>"
      ]
     },
     "metadata": {},
     "output_type": "display_data"
    }
   ],
   "source": [
    "top_features = risk.feature_importances['top_features']\n",
    "\n",
    "# Create plot\n",
    "plt.figure(figsize=(10, 6))\n",
    "plt.bar(top_features.keys(), top_features.values())\n",
    "plt.title('Top Features Importance for Dengue Risk')\n",
    "plt.xlabel('Features')\n",
    "plt.ylabel('Importance Score')\n",
    "plt.xticks(rotation=45, ha='right')\n",
    "plt.tight_layout()"
   ]
  },
  {
   "cell_type": "code",
   "execution_count": 15,
   "metadata": {},
   "outputs": [
    {
     "data": {
      "text/html": [
       "<div style=\"width:100%;\"><div style=\"position:relative;width:100%;height:0;padding-bottom:60%;\"><span style=\"color:#565656\">Make this Notebook Trusted to load map: File -> Trust Notebook</span><iframe srcdoc=\"&lt;!DOCTYPE html&gt;\n",
       "&lt;html&gt;\n",
       "&lt;head&gt;\n",
       "    \n",
       "    &lt;meta http-equiv=&quot;content-type&quot; content=&quot;text/html; charset=UTF-8&quot; /&gt;\n",
       "    \n",
       "        &lt;script&gt;\n",
       "            L_NO_TOUCH = false;\n",
       "            L_DISABLE_3D = false;\n",
       "        &lt;/script&gt;\n",
       "    \n",
       "    &lt;style&gt;html, body {width: 100%;height: 100%;margin: 0;padding: 0;}&lt;/style&gt;\n",
       "    &lt;style&gt;#map {position:absolute;top:0;bottom:0;right:0;left:0;}&lt;/style&gt;\n",
       "    &lt;script src=&quot;https://cdn.jsdelivr.net/npm/leaflet@1.9.3/dist/leaflet.js&quot;&gt;&lt;/script&gt;\n",
       "    &lt;script src=&quot;https://code.jquery.com/jquery-3.7.1.min.js&quot;&gt;&lt;/script&gt;\n",
       "    &lt;script src=&quot;https://cdn.jsdelivr.net/npm/bootstrap@5.2.2/dist/js/bootstrap.bundle.min.js&quot;&gt;&lt;/script&gt;\n",
       "    &lt;script src=&quot;https://cdnjs.cloudflare.com/ajax/libs/Leaflet.awesome-markers/2.0.2/leaflet.awesome-markers.js&quot;&gt;&lt;/script&gt;\n",
       "    &lt;link rel=&quot;stylesheet&quot; href=&quot;https://cdn.jsdelivr.net/npm/leaflet@1.9.3/dist/leaflet.css&quot;/&gt;\n",
       "    &lt;link rel=&quot;stylesheet&quot; href=&quot;https://cdn.jsdelivr.net/npm/bootstrap@5.2.2/dist/css/bootstrap.min.css&quot;/&gt;\n",
       "    &lt;link rel=&quot;stylesheet&quot; href=&quot;https://netdna.bootstrapcdn.com/bootstrap/3.0.0/css/bootstrap-glyphicons.css&quot;/&gt;\n",
       "    &lt;link rel=&quot;stylesheet&quot; href=&quot;https://cdn.jsdelivr.net/npm/@fortawesome/fontawesome-free@6.2.0/css/all.min.css&quot;/&gt;\n",
       "    &lt;link rel=&quot;stylesheet&quot; href=&quot;https://cdnjs.cloudflare.com/ajax/libs/Leaflet.awesome-markers/2.0.2/leaflet.awesome-markers.css&quot;/&gt;\n",
       "    &lt;link rel=&quot;stylesheet&quot; href=&quot;https://cdn.jsdelivr.net/gh/python-visualization/folium/folium/templates/leaflet.awesome.rotate.min.css&quot;/&gt;\n",
       "    \n",
       "            &lt;meta name=&quot;viewport&quot; content=&quot;width=device-width,\n",
       "                initial-scale=1.0, maximum-scale=1.0, user-scalable=no&quot; /&gt;\n",
       "            &lt;style&gt;\n",
       "                #map_ea5b40214b0b6893ac91a69cfb45db60 {\n",
       "                    position: relative;\n",
       "                    width: 100.0%;\n",
       "                    height: 100.0%;\n",
       "                    left: 0.0%;\n",
       "                    top: 0.0%;\n",
       "                }\n",
       "                .leaflet-container { font-size: 1rem; }\n",
       "            &lt;/style&gt;\n",
       "        \n",
       "    &lt;script src=&quot;https://cdnjs.cloudflare.com/ajax/libs/leaflet.markercluster/1.1.0/leaflet.markercluster.js&quot;&gt;&lt;/script&gt;\n",
       "    &lt;link rel=&quot;stylesheet&quot; href=&quot;https://cdnjs.cloudflare.com/ajax/libs/leaflet.markercluster/1.1.0/MarkerCluster.css&quot;/&gt;\n",
       "    &lt;link rel=&quot;stylesheet&quot; href=&quot;https://cdnjs.cloudflare.com/ajax/libs/leaflet.markercluster/1.1.0/MarkerCluster.Default.css&quot;/&gt;\n",
       "&lt;/head&gt;\n",
       "&lt;body&gt;\n",
       "    \n",
       "    \n",
       "            &lt;div class=&quot;folium-map&quot; id=&quot;map_ea5b40214b0b6893ac91a69cfb45db60&quot; &gt;&lt;/div&gt;\n",
       "        \n",
       "&lt;/body&gt;\n",
       "&lt;script&gt;\n",
       "    \n",
       "    \n",
       "            var map_ea5b40214b0b6893ac91a69cfb45db60 = L.map(\n",
       "                &quot;map_ea5b40214b0b6893ac91a69cfb45db60&quot;,\n",
       "                {\n",
       "                    center: [10.217720588235293, -11.45474705882353],\n",
       "                    crs: L.CRS.EPSG3857,\n",
       "                    zoom: 5,\n",
       "                    zoomControl: true,\n",
       "                    preferCanvas: false,\n",
       "                }\n",
       "            );\n",
       "\n",
       "            \n",
       "\n",
       "        \n",
       "    \n",
       "            var tile_layer_bc4571dc06e870f8bd9c3f432607f106 = L.tileLayer(\n",
       "                &quot;https://tile.openstreetmap.org/{z}/{x}/{y}.png&quot;,\n",
       "                {&quot;attribution&quot;: &quot;\\u0026copy; \\u003ca href=\\&quot;https://www.openstreetmap.org/copyright\\&quot;\\u003eOpenStreetMap\\u003c/a\\u003e contributors&quot;, &quot;detectRetina&quot;: false, &quot;maxNativeZoom&quot;: 19, &quot;maxZoom&quot;: 19, &quot;minZoom&quot;: 0, &quot;noWrap&quot;: false, &quot;opacity&quot;: 1, &quot;subdomains&quot;: &quot;abc&quot;, &quot;tms&quot;: false}\n",
       "            );\n",
       "        \n",
       "    \n",
       "            tile_layer_bc4571dc06e870f8bd9c3f432607f106.addTo(map_ea5b40214b0b6893ac91a69cfb45db60);\n",
       "        \n",
       "    \n",
       "            var marker_cluster_2c2fdb2529a1829c1ea5355db48537dc = L.markerClusterGroup(\n",
       "                {}\n",
       "            );\n",
       "        \n",
       "    \n",
       "            var circle_marker_21f1f520e2936978687db557ac89e9f8 = L.circleMarker(\n",
       "                [8.6833, -8.6333],\n",
       "                {&quot;bubblingMouseEvents&quot;: true, &quot;color&quot;: &quot;green&quot;, &quot;dashArray&quot;: null, &quot;dashOffset&quot;: null, &quot;fill&quot;: true, &quot;fillColor&quot;: &quot;green&quot;, &quot;fillOpacity&quot;: 0.7, &quot;fillRule&quot;: &quot;evenodd&quot;, &quot;lineCap&quot;: &quot;round&quot;, &quot;lineJoin&quot;: &quot;round&quot;, &quot;opacity&quot;: 1.0, &quot;radius&quot;: 9.448928857978894, &quot;stroke&quot;: true, &quot;weight&quot;: 3}\n",
       "            ).addTo(marker_cluster_2c2fdb2529a1829c1ea5355db48537dc);\n",
       "        \n",
       "    \n",
       "        var popup_9fc1c663e714594e95180d56de884901 = L.popup({&quot;maxWidth&quot;: &quot;100%&quot;});\n",
       "\n",
       "        \n",
       "            \n",
       "                var html_7db79a2aad8771b5039339ad3f55edcf = $(`&lt;div id=&quot;html_7db79a2aad8771b5039339ad3f55edcf&quot; style=&quot;width: 100.0%; height: 100.0%;&quot;&gt;             City: Beyla             Risk Score: 44.49             Risk Category: Low             &lt;/div&gt;`)[0];\n",
       "                popup_9fc1c663e714594e95180d56de884901.setContent(html_7db79a2aad8771b5039339ad3f55edcf);\n",
       "            \n",
       "        \n",
       "\n",
       "        circle_marker_21f1f520e2936978687db557ac89e9f8.bindPopup(popup_9fc1c663e714594e95180d56de884901)\n",
       "        ;\n",
       "\n",
       "        \n",
       "    \n",
       "    \n",
       "            var circle_marker_329b56919be4169ba4492326c3c818cf = L.circleMarker(\n",
       "                [10.185, -14.043],\n",
       "                {&quot;bubblingMouseEvents&quot;: true, &quot;color&quot;: &quot;green&quot;, &quot;dashArray&quot;: null, &quot;dashOffset&quot;: null, &quot;fill&quot;: true, &quot;fillColor&quot;: &quot;green&quot;, &quot;fillOpacity&quot;: 0.7, &quot;fillRule&quot;: &quot;evenodd&quot;, &quot;lineCap&quot;: &quot;round&quot;, &quot;lineJoin&quot;: &quot;round&quot;, &quot;opacity&quot;: 1.0, &quot;radius&quot;: 8.636306933341944, &quot;stroke&quot;: true, &quot;weight&quot;: 3}\n",
       "            ).addTo(marker_cluster_2c2fdb2529a1829c1ea5355db48537dc);\n",
       "        \n",
       "    \n",
       "        var popup_e3fe4bdd2069673c73d4a33d6b2bf181 = L.popup({&quot;maxWidth&quot;: &quot;100%&quot;});\n",
       "\n",
       "        \n",
       "            \n",
       "                var html_088fb2e5a67f3b4d910a6343a21b6e4c = $(`&lt;div id=&quot;html_088fb2e5a67f3b4d910a6343a21b6e4c&quot; style=&quot;width: 100.0%; height: 100.0%;&quot;&gt;             City: Boffa             Risk Score: 36.36             Risk Category: Low             &lt;/div&gt;`)[0];\n",
       "                popup_e3fe4bdd2069673c73d4a33d6b2bf181.setContent(html_088fb2e5a67f3b4d910a6343a21b6e4c);\n",
       "            \n",
       "        \n",
       "\n",
       "        circle_marker_329b56919be4169ba4492326c3c818cf.bindPopup(popup_e3fe4bdd2069673c73d4a33d6b2bf181)\n",
       "        ;\n",
       "\n",
       "        \n",
       "    \n",
       "    \n",
       "            var circle_marker_9dd92158f6dee132f5efbb13433f8aab = L.circleMarker(\n",
       "                [10.94, -14.3],\n",
       "                {&quot;bubblingMouseEvents&quot;: true, &quot;color&quot;: &quot;green&quot;, &quot;dashArray&quot;: null, &quot;dashOffset&quot;: null, &quot;fill&quot;: true, &quot;fillColor&quot;: &quot;green&quot;, &quot;fillOpacity&quot;: 0.7, &quot;fillRule&quot;: &quot;evenodd&quot;, &quot;lineCap&quot;: &quot;round&quot;, &quot;lineJoin&quot;: &quot;round&quot;, &quot;opacity&quot;: 1.0, &quot;radius&quot;: 5.0, &quot;stroke&quot;: true, &quot;weight&quot;: 3}\n",
       "            ).addTo(marker_cluster_2c2fdb2529a1829c1ea5355db48537dc);\n",
       "        \n",
       "    \n",
       "        var popup_1911be46565f2f0ec5e71ae5d4c5bdfb = L.popup({&quot;maxWidth&quot;: &quot;100%&quot;});\n",
       "\n",
       "        \n",
       "            \n",
       "                var html_a010ea367a14e4c0f73478e66b7dff36 = $(`&lt;div id=&quot;html_a010ea367a14e4c0f73478e66b7dff36&quot; style=&quot;width: 100.0%; height: 100.0%;&quot;&gt;             City: Boké             Risk Score: 0.00             Risk Category: Low             &lt;/div&gt;`)[0];\n",
       "                popup_1911be46565f2f0ec5e71ae5d4c5bdfb.setContent(html_a010ea367a14e4c0f73478e66b7dff36);\n",
       "            \n",
       "        \n",
       "\n",
       "        circle_marker_9dd92158f6dee132f5efbb13433f8aab.bindPopup(popup_1911be46565f2f0ec5e71ae5d4c5bdfb)\n",
       "        ;\n",
       "\n",
       "        \n",
       "    \n",
       "    \n",
       "            var circle_marker_c5cc977a380457a6634762abdb3d271c = L.circleMarker(\n",
       "                [9.5092, -13.7122],\n",
       "                {&quot;bubblingMouseEvents&quot;: true, &quot;color&quot;: &quot;green&quot;, &quot;dashArray&quot;: null, &quot;dashOffset&quot;: null, &quot;fill&quot;: true, &quot;fillColor&quot;: &quot;green&quot;, &quot;fillOpacity&quot;: 0.7, &quot;fillRule&quot;: &quot;evenodd&quot;, &quot;lineCap&quot;: &quot;round&quot;, &quot;lineJoin&quot;: &quot;round&quot;, &quot;opacity&quot;: 1.0, &quot;radius&quot;: 10.627879965549251, &quot;stroke&quot;: true, &quot;weight&quot;: 3}\n",
       "            ).addTo(marker_cluster_2c2fdb2529a1829c1ea5355db48537dc);\n",
       "        \n",
       "    \n",
       "        var popup_1aecd7c0cdbf253b50e6e5c5b16daa09 = L.popup({&quot;maxWidth&quot;: &quot;100%&quot;});\n",
       "\n",
       "        \n",
       "            \n",
       "                var html_7313ec669736e4b7eedb50a62d0e546b = $(`&lt;div id=&quot;html_7313ec669736e4b7eedb50a62d0e546b&quot; style=&quot;width: 100.0%; height: 100.0%;&quot;&gt;             City: Conakry             Risk Score: 56.28             Risk Category: Low             &lt;/div&gt;`)[0];\n",
       "                popup_1aecd7c0cdbf253b50e6e5c5b16daa09.setContent(html_7313ec669736e4b7eedb50a62d0e546b);\n",
       "            \n",
       "        \n",
       "\n",
       "        circle_marker_c5cc977a380457a6634762abdb3d271c.bindPopup(popup_1aecd7c0cdbf253b50e6e5c5b16daa09)\n",
       "        ;\n",
       "\n",
       "        \n",
       "    \n",
       "    \n",
       "            var circle_marker_f0541b69fad89a600ffd7d76c0460be6 = L.circleMarker(\n",
       "                [9.7056, -13.3769],\n",
       "                {&quot;bubblingMouseEvents&quot;: true, &quot;color&quot;: &quot;green&quot;, &quot;dashArray&quot;: null, &quot;dashOffset&quot;: null, &quot;fill&quot;: true, &quot;fillColor&quot;: &quot;green&quot;, &quot;fillOpacity&quot;: 0.7, &quot;fillRule&quot;: &quot;evenodd&quot;, &quot;lineCap&quot;: &quot;round&quot;, &quot;lineJoin&quot;: &quot;round&quot;, &quot;opacity&quot;: 1.0, &quot;radius&quot;: 10.57228111707394, &quot;stroke&quot;: true, &quot;weight&quot;: 3}\n",
       "            ).addTo(marker_cluster_2c2fdb2529a1829c1ea5355db48537dc);\n",
       "        \n",
       "    \n",
       "        var popup_4f1628dbf972d7bdddaf0d4c5a726414 = L.popup({&quot;maxWidth&quot;: &quot;100%&quot;});\n",
       "\n",
       "        \n",
       "            \n",
       "                var html_8423593afc462a8166c364c8d7074ed1 = $(`&lt;div id=&quot;html_8423593afc462a8166c364c8d7074ed1&quot; style=&quot;width: 100.0%; height: 100.0%;&quot;&gt;             City: Coyah             Risk Score: 55.72             Risk Category: Low             &lt;/div&gt;`)[0];\n",
       "                popup_4f1628dbf972d7bdddaf0d4c5a726414.setContent(html_8423593afc462a8166c364c8d7074ed1);\n",
       "            \n",
       "        \n",
       "\n",
       "        circle_marker_f0541b69fad89a600ffd7d76c0460be6.bindPopup(popup_4f1628dbf972d7bdddaf0d4c5a726414)\n",
       "        ;\n",
       "\n",
       "        \n",
       "    \n",
       "    \n",
       "            var circle_marker_bb239099155c4a7a3490bf063fae6b19 = L.circleMarker(\n",
       "                [10.75, -11.1167],\n",
       "                {&quot;bubblingMouseEvents&quot;: true, &quot;color&quot;: &quot;red&quot;, &quot;dashArray&quot;: null, &quot;dashOffset&quot;: null, &quot;fill&quot;: true, &quot;fillColor&quot;: &quot;red&quot;, &quot;fillOpacity&quot;: 0.7, &quot;fillRule&quot;: &quot;evenodd&quot;, &quot;lineCap&quot;: &quot;round&quot;, &quot;lineJoin&quot;: &quot;round&quot;, &quot;opacity&quot;: 1.0, &quot;radius&quot;: 13.947745356972845, &quot;stroke&quot;: true, &quot;weight&quot;: 3}\n",
       "            ).addTo(marker_cluster_2c2fdb2529a1829c1ea5355db48537dc);\n",
       "        \n",
       "    \n",
       "        var popup_84ffabc182deeeadd65b5be9b8c12548 = L.popup({&quot;maxWidth&quot;: &quot;100%&quot;});\n",
       "\n",
       "        \n",
       "            \n",
       "                var html_df2a795f60651cdeaf9875daf9ee9c7f = $(`&lt;div id=&quot;html_df2a795f60651cdeaf9875daf9ee9c7f&quot; style=&quot;width: 100.0%; height: 100.0%;&quot;&gt;             City: Dabola             Risk Score: 89.48             Risk Category: High             &lt;/div&gt;`)[0];\n",
       "                popup_84ffabc182deeeadd65b5be9b8c12548.setContent(html_df2a795f60651cdeaf9875daf9ee9c7f);\n",
       "            \n",
       "        \n",
       "\n",
       "        circle_marker_bb239099155c4a7a3490bf063fae6b19.bindPopup(popup_84ffabc182deeeadd65b5be9b8c12548)\n",
       "        ;\n",
       "\n",
       "        \n",
       "    \n",
       "    \n",
       "            var circle_marker_d0cd63b94a6b4d89693aec25f8a081df = L.circleMarker(\n",
       "                [10.656, -12.272],\n",
       "                {&quot;bubblingMouseEvents&quot;: true, &quot;color&quot;: &quot;green&quot;, &quot;dashArray&quot;: null, &quot;dashOffset&quot;: null, &quot;fill&quot;: true, &quot;fillColor&quot;: &quot;green&quot;, &quot;fillOpacity&quot;: 0.7, &quot;fillRule&quot;: &quot;evenodd&quot;, &quot;lineCap&quot;: &quot;round&quot;, &quot;lineJoin&quot;: &quot;round&quot;, &quot;opacity&quot;: 1.0, &quot;radius&quot;: 9.71541872332179, &quot;stroke&quot;: true, &quot;weight&quot;: 3}\n",
       "            ).addTo(marker_cluster_2c2fdb2529a1829c1ea5355db48537dc);\n",
       "        \n",
       "    \n",
       "        var popup_88ec08a309cc417533c2275c13d99ff6 = L.popup({&quot;maxWidth&quot;: &quot;100%&quot;});\n",
       "\n",
       "        \n",
       "            \n",
       "                var html_206e6b73dba000c946bbcc066d673ca9 = $(`&lt;div id=&quot;html_206e6b73dba000c946bbcc066d673ca9&quot; style=&quot;width: 100.0%; height: 100.0%;&quot;&gt;             City: Dalaba             Risk Score: 47.15             Risk Category: Low             &lt;/div&gt;`)[0];\n",
       "                popup_88ec08a309cc417533c2275c13d99ff6.setContent(html_206e6b73dba000c946bbcc066d673ca9);\n",
       "            \n",
       "        \n",
       "\n",
       "        circle_marker_d0cd63b94a6b4d89693aec25f8a081df.bindPopup(popup_88ec08a309cc417533c2275c13d99ff6)\n",
       "        ;\n",
       "\n",
       "        \n",
       "    \n",
       "    \n",
       "            var circle_marker_b4c96099dd64b2232f1a7978e42beb75 = L.circleMarker(\n",
       "                [11.299, -10.726],\n",
       "                {&quot;bubblingMouseEvents&quot;: true, &quot;color&quot;: &quot;red&quot;, &quot;dashArray&quot;: null, &quot;dashOffset&quot;: null, &quot;fill&quot;: true, &quot;fillColor&quot;: &quot;red&quot;, &quot;fillOpacity&quot;: 0.7, &quot;fillRule&quot;: &quot;evenodd&quot;, &quot;lineCap&quot;: &quot;round&quot;, &quot;lineJoin&quot;: &quot;round&quot;, &quot;opacity&quot;: 1.0, &quot;radius&quot;: 15.0, &quot;stroke&quot;: true, &quot;weight&quot;: 3}\n",
       "            ).addTo(marker_cluster_2c2fdb2529a1829c1ea5355db48537dc);\n",
       "        \n",
       "    \n",
       "        var popup_d1919de9a88ea412f31f2808d320c6ed = L.popup({&quot;maxWidth&quot;: &quot;100%&quot;});\n",
       "\n",
       "        \n",
       "            \n",
       "                var html_93448cc219f259213b961f909d915cd1 = $(`&lt;div id=&quot;html_93448cc219f259213b961f909d915cd1&quot; style=&quot;width: 100.0%; height: 100.0%;&quot;&gt;             City: Dinguiraye             Risk Score: 100.00             Risk Category: High             &lt;/div&gt;`)[0];\n",
       "                popup_d1919de9a88ea412f31f2808d320c6ed.setContent(html_93448cc219f259213b961f909d915cd1);\n",
       "            \n",
       "        \n",
       "\n",
       "        circle_marker_b4c96099dd64b2232f1a7978e42beb75.bindPopup(popup_d1919de9a88ea412f31f2808d320c6ed)\n",
       "        ;\n",
       "\n",
       "        \n",
       "    \n",
       "    \n",
       "            var circle_marker_6ceeab859308d3ba5ce4214870609ae4 = L.circleMarker(\n",
       "                [9.7911, -13.5233],\n",
       "                {&quot;bubblingMouseEvents&quot;: true, &quot;color&quot;: &quot;orange&quot;, &quot;dashArray&quot;: null, &quot;dashOffset&quot;: null, &quot;fill&quot;: true, &quot;fillColor&quot;: &quot;orange&quot;, &quot;fillOpacity&quot;: 0.7, &quot;fillRule&quot;: &quot;evenodd&quot;, &quot;lineCap&quot;: &quot;round&quot;, &quot;lineJoin&quot;: &quot;round&quot;, &quot;opacity&quot;: 1.0, &quot;radius&quot;: 11.768150189213088, &quot;stroke&quot;: true, &quot;weight&quot;: 3}\n",
       "            ).addTo(marker_cluster_2c2fdb2529a1829c1ea5355db48537dc);\n",
       "        \n",
       "    \n",
       "        var popup_9b8625fd987be6108749194661c9e699 = L.popup({&quot;maxWidth&quot;: &quot;100%&quot;});\n",
       "\n",
       "        \n",
       "            \n",
       "                var html_d1887fbdffd938f8c2cd4e3018375ad4 = $(`&lt;div id=&quot;html_d1887fbdffd938f8c2cd4e3018375ad4&quot; style=&quot;width: 100.0%; height: 100.0%;&quot;&gt;             City: Dubréka             Risk Score: 67.68             Risk Category: Medium             &lt;/div&gt;`)[0];\n",
       "                popup_9b8625fd987be6108749194661c9e699.setContent(html_d1887fbdffd938f8c2cd4e3018375ad4);\n",
       "            \n",
       "        \n",
       "\n",
       "        circle_marker_6ceeab859308d3ba5ce4214870609ae4.bindPopup(popup_9b8625fd987be6108749194661c9e699)\n",
       "        ;\n",
       "\n",
       "        \n",
       "    \n",
       "    \n",
       "            var circle_marker_213155ad72754445c8036bcdaa2afebd = L.circleMarker(\n",
       "                [10.0333, -10.7333],\n",
       "                {&quot;bubblingMouseEvents&quot;: true, &quot;color&quot;: &quot;red&quot;, &quot;dashArray&quot;: null, &quot;dashOffset&quot;: null, &quot;fill&quot;: true, &quot;fillColor&quot;: &quot;red&quot;, &quot;fillOpacity&quot;: 0.7, &quot;fillRule&quot;: &quot;evenodd&quot;, &quot;lineCap&quot;: &quot;round&quot;, &quot;lineJoin&quot;: &quot;round&quot;, &quot;opacity&quot;: 1.0, &quot;radius&quot;: 14.42258338700763, &quot;stroke&quot;: true, &quot;weight&quot;: 3}\n",
       "            ).addTo(marker_cluster_2c2fdb2529a1829c1ea5355db48537dc);\n",
       "        \n",
       "    \n",
       "        var popup_37a14e1a7110c505bf2cdfa156d87344 = L.popup({&quot;maxWidth&quot;: &quot;100%&quot;});\n",
       "\n",
       "        \n",
       "            \n",
       "                var html_93aebff929768bb3966fb7534e6ba2cb = $(`&lt;div id=&quot;html_93aebff929768bb3966fb7534e6ba2cb&quot; style=&quot;width: 100.0%; height: 100.0%;&quot;&gt;             City: Faranah             Risk Score: 94.23             Risk Category: High             &lt;/div&gt;`)[0];\n",
       "                popup_37a14e1a7110c505bf2cdfa156d87344.setContent(html_93aebff929768bb3966fb7534e6ba2cb);\n",
       "            \n",
       "        \n",
       "\n",
       "        circle_marker_213155ad72754445c8036bcdaa2afebd.bindPopup(popup_37a14e1a7110c505bf2cdfa156d87344)\n",
       "        ;\n",
       "\n",
       "        \n",
       "    \n",
       "    \n",
       "            var circle_marker_bffcfce5618e1af086a573bc9dbb186a = L.circleMarker(\n",
       "                [9.43, -13.098],\n",
       "                {&quot;bubblingMouseEvents&quot;: true, &quot;color&quot;: &quot;red&quot;, &quot;dashArray&quot;: null, &quot;dashOffset&quot;: null, &quot;fill&quot;: true, &quot;fillColor&quot;: &quot;red&quot;, &quot;fillOpacity&quot;: 0.7, &quot;fillRule&quot;: &quot;evenodd&quot;, &quot;lineCap&quot;: &quot;round&quot;, &quot;lineJoin&quot;: &quot;round&quot;, &quot;opacity&quot;: 1.0, &quot;radius&quot;: 13.695342983226043, &quot;stroke&quot;: true, &quot;weight&quot;: 3}\n",
       "            ).addTo(marker_cluster_2c2fdb2529a1829c1ea5355db48537dc);\n",
       "        \n",
       "    \n",
       "        var popup_76996929310d8064c68b5dfb388a88d5 = L.popup({&quot;maxWidth&quot;: &quot;100%&quot;});\n",
       "\n",
       "        \n",
       "            \n",
       "                var html_b87bb462ac7d39783ae42a499456b5ad = $(`&lt;div id=&quot;html_b87bb462ac7d39783ae42a499456b5ad&quot; style=&quot;width: 100.0%; height: 100.0%;&quot;&gt;             City: Forécariah             Risk Score: 86.95             Risk Category: High             &lt;/div&gt;`)[0];\n",
       "                popup_76996929310d8064c68b5dfb388a88d5.setContent(html_b87bb462ac7d39783ae42a499456b5ad);\n",
       "            \n",
       "        \n",
       "\n",
       "        circle_marker_bffcfce5618e1af086a573bc9dbb186a.bindPopup(popup_76996929310d8064c68b5dfb388a88d5)\n",
       "        ;\n",
       "\n",
       "        \n",
       "    \n",
       "    \n",
       "            var circle_marker_a8eeacb1de51d9087c60be199efc9118 = L.circleMarker(\n",
       "                [10.3804, -13.55],\n",
       "                {&quot;bubblingMouseEvents&quot;: true, &quot;color&quot;: &quot;orange&quot;, &quot;dashArray&quot;: null, &quot;dashOffset&quot;: null, &quot;fill&quot;: true, &quot;fillColor&quot;: &quot;orange&quot;, &quot;fillOpacity&quot;: 0.7, &quot;fillRule&quot;: &quot;evenodd&quot;, &quot;lineCap&quot;: &quot;round&quot;, &quot;lineJoin&quot;: &quot;round&quot;, &quot;opacity&quot;: 1.0, &quot;radius&quot;: 12.100940430033596, &quot;stroke&quot;: true, &quot;weight&quot;: 3}\n",
       "            ).addTo(marker_cluster_2c2fdb2529a1829c1ea5355db48537dc);\n",
       "        \n",
       "    \n",
       "        var popup_8298d8d8e3ef2f15e336faa3f502cae9 = L.popup({&quot;maxWidth&quot;: &quot;100%&quot;});\n",
       "\n",
       "        \n",
       "            \n",
       "                var html_aa23b717b7149e1923eea899f4524b7a = $(`&lt;div id=&quot;html_aa23b717b7149e1923eea899f4524b7a&quot; style=&quot;width: 100.0%; height: 100.0%;&quot;&gt;             City: Fria             Risk Score: 71.01             Risk Category: Medium             &lt;/div&gt;`)[0];\n",
       "                popup_8298d8d8e3ef2f15e336faa3f502cae9.setContent(html_aa23b717b7149e1923eea899f4524b7a);\n",
       "            \n",
       "        \n",
       "\n",
       "        circle_marker_a8eeacb1de51d9087c60be199efc9118.bindPopup(popup_8298d8d8e3ef2f15e336faa3f502cae9)\n",
       "        ;\n",
       "\n",
       "        \n",
       "    \n",
       "    \n",
       "            var circle_marker_50730efc34c474d497fbc4effdab0274 = L.circleMarker(\n",
       "                [11.754, -13.213],\n",
       "                {&quot;bubblingMouseEvents&quot;: true, &quot;color&quot;: &quot;green&quot;, &quot;dashArray&quot;: null, &quot;dashOffset&quot;: null, &quot;fill&quot;: true, &quot;fillColor&quot;: &quot;green&quot;, &quot;fillOpacity&quot;: 0.7, &quot;fillRule&quot;: &quot;evenodd&quot;, &quot;lineCap&quot;: &quot;round&quot;, &quot;lineJoin&quot;: &quot;round&quot;, &quot;opacity&quot;: 1.0, &quot;radius&quot;: 9.527058914793834, &quot;stroke&quot;: true, &quot;weight&quot;: 3}\n",
       "            ).addTo(marker_cluster_2c2fdb2529a1829c1ea5355db48537dc);\n",
       "        \n",
       "    \n",
       "        var popup_3b9983c7cfe91b22e40510f86d28a87e = L.popup({&quot;maxWidth&quot;: &quot;100%&quot;});\n",
       "\n",
       "        \n",
       "            \n",
       "                var html_dd96710153d9b876731b409bed82bc1c = $(`&lt;div id=&quot;html_dd96710153d9b876731b409bed82bc1c&quot; style=&quot;width: 100.0%; height: 100.0%;&quot;&gt;             City: Gaoual             Risk Score: 45.27             Risk Category: Low             &lt;/div&gt;`)[0];\n",
       "                popup_3b9983c7cfe91b22e40510f86d28a87e.setContent(html_dd96710153d9b876731b409bed82bc1c);\n",
       "            \n",
       "        \n",
       "\n",
       "        circle_marker_50730efc34c474d497fbc4effdab0274.bindPopup(popup_3b9983c7cfe91b22e40510f86d28a87e)\n",
       "        ;\n",
       "\n",
       "        \n",
       "    \n",
       "    \n",
       "            var circle_marker_52a92d39606e2f241b2338acc66e0e82 = L.circleMarker(\n",
       "                [8.5667, -10.1333],\n",
       "                {&quot;bubblingMouseEvents&quot;: true, &quot;color&quot;: &quot;orange&quot;, &quot;dashArray&quot;: null, &quot;dashOffset&quot;: null, &quot;fill&quot;: true, &quot;fillColor&quot;: &quot;orange&quot;, &quot;fillOpacity&quot;: 0.7, &quot;fillRule&quot;: &quot;evenodd&quot;, &quot;lineCap&quot;: &quot;round&quot;, &quot;lineJoin&quot;: &quot;round&quot;, &quot;opacity&quot;: 1.0, &quot;radius&quot;: 12.23360830977225, &quot;stroke&quot;: true, &quot;weight&quot;: 3}\n",
       "            ).addTo(marker_cluster_2c2fdb2529a1829c1ea5355db48537dc);\n",
       "        \n",
       "    \n",
       "        var popup_05a25b1f33f5a24dd80a672755cbca13 = L.popup({&quot;maxWidth&quot;: &quot;100%&quot;});\n",
       "\n",
       "        \n",
       "            \n",
       "                var html_06de8a6b39f58c8c3c04578a84db7257 = $(`&lt;div id=&quot;html_06de8a6b39f58c8c3c04578a84db7257&quot; style=&quot;width: 100.0%; height: 100.0%;&quot;&gt;             City: Guéckédou             Risk Score: 72.34             Risk Category: Medium             &lt;/div&gt;`)[0];\n",
       "                popup_05a25b1f33f5a24dd80a672755cbca13.setContent(html_06de8a6b39f58c8c3c04578a84db7257);\n",
       "            \n",
       "        \n",
       "\n",
       "        circle_marker_52a92d39606e2f241b2338acc66e0e82.bindPopup(popup_05a25b1f33f5a24dd80a672755cbca13)\n",
       "        ;\n",
       "\n",
       "        \n",
       "    \n",
       "    \n",
       "            var circle_marker_6f0d791acbf020d69438b8020f7316a5 = L.circleMarker(\n",
       "                [10.3833, -9.3],\n",
       "                {&quot;bubblingMouseEvents&quot;: true, &quot;color&quot;: &quot;orange&quot;, &quot;dashArray&quot;: null, &quot;dashOffset&quot;: null, &quot;fill&quot;: true, &quot;fillColor&quot;: &quot;orange&quot;, &quot;fillOpacity&quot;: 0.7, &quot;fillRule&quot;: &quot;evenodd&quot;, &quot;lineCap&quot;: &quot;round&quot;, &quot;lineJoin&quot;: &quot;round&quot;, &quot;opacity&quot;: 1.0, &quot;radius&quot;: 12.98821596390778, &quot;stroke&quot;: true, &quot;weight&quot;: 3}\n",
       "            ).addTo(marker_cluster_2c2fdb2529a1829c1ea5355db48537dc);\n",
       "        \n",
       "    \n",
       "        var popup_7c4994e3dce68b58555a950ccf6c043a = L.popup({&quot;maxWidth&quot;: &quot;100%&quot;});\n",
       "\n",
       "        \n",
       "            \n",
       "                var html_fe620435aa45f7eb6468ae45def7fb79 = $(`&lt;div id=&quot;html_fe620435aa45f7eb6468ae45def7fb79&quot; style=&quot;width: 100.0%; height: 100.0%;&quot;&gt;             City: Kankan             Risk Score: 79.88             Risk Category: Medium             &lt;/div&gt;`)[0];\n",
       "                popup_7c4994e3dce68b58555a950ccf6c043a.setContent(html_fe620435aa45f7eb6468ae45def7fb79);\n",
       "            \n",
       "        \n",
       "\n",
       "        circle_marker_6f0d791acbf020d69438b8020f7316a5.bindPopup(popup_7c4994e3dce68b58555a950ccf6c043a)\n",
       "        ;\n",
       "\n",
       "        \n",
       "    \n",
       "    \n",
       "            var circle_marker_e473fa8c1cfebe1077bcda48e69abe93 = L.circleMarker(\n",
       "                [10.0497, -12.8542],\n",
       "                {&quot;bubblingMouseEvents&quot;: true, &quot;color&quot;: &quot;red&quot;, &quot;dashArray&quot;: null, &quot;dashOffset&quot;: null, &quot;fill&quot;: true, &quot;fillColor&quot;: &quot;red&quot;, &quot;fillOpacity&quot;: 0.7, &quot;fillRule&quot;: &quot;evenodd&quot;, &quot;lineCap&quot;: &quot;round&quot;, &quot;lineJoin&quot;: &quot;round&quot;, &quot;opacity&quot;: 1.0, &quot;radius&quot;: 13.650636389928994, &quot;stroke&quot;: true, &quot;weight&quot;: 3}\n",
       "            ).addTo(marker_cluster_2c2fdb2529a1829c1ea5355db48537dc);\n",
       "        \n",
       "    \n",
       "        var popup_fd7ce295a7ccef3366bc97f3ad540a31 = L.popup({&quot;maxWidth&quot;: &quot;100%&quot;});\n",
       "\n",
       "        \n",
       "            \n",
       "                var html_58beb8e82b4040cd289f4d468c236070 = $(`&lt;div id=&quot;html_58beb8e82b4040cd289f4d468c236070&quot; style=&quot;width: 100.0%; height: 100.0%;&quot;&gt;             City: Kindia             Risk Score: 86.51             Risk Category: High             &lt;/div&gt;`)[0];\n",
       "                popup_fd7ce295a7ccef3366bc97f3ad540a31.setContent(html_58beb8e82b4040cd289f4d468c236070);\n",
       "            \n",
       "        \n",
       "\n",
       "        circle_marker_e473fa8c1cfebe1077bcda48e69abe93.bindPopup(popup_fd7ce295a7ccef3366bc97f3ad540a31)\n",
       "        ;\n",
       "\n",
       "        \n",
       "    \n",
       "    \n",
       "            var circle_marker_d9adcad39aebc4564e886aec4dbddf17 = L.circleMarker(\n",
       "                [9.1905, -10.12],\n",
       "                {&quot;bubblingMouseEvents&quot;: true, &quot;color&quot;: &quot;red&quot;, &quot;dashArray&quot;: null, &quot;dashOffset&quot;: null, &quot;fill&quot;: true, &quot;fillColor&quot;: &quot;red&quot;, &quot;fillOpacity&quot;: 0.7, &quot;fillRule&quot;: &quot;evenodd&quot;, &quot;lineCap&quot;: &quot;round&quot;, &quot;lineJoin&quot;: &quot;round&quot;, &quot;opacity&quot;: 1.0, &quot;radius&quot;: 14.465054461598891, &quot;stroke&quot;: true, &quot;weight&quot;: 3}\n",
       "            ).addTo(marker_cluster_2c2fdb2529a1829c1ea5355db48537dc);\n",
       "        \n",
       "    \n",
       "        var popup_1649b5891ab2f728780f231aebb367ed = L.popup({&quot;maxWidth&quot;: &quot;100%&quot;});\n",
       "\n",
       "        \n",
       "            \n",
       "                var html_31a22982132080a3d363d4be51388c91 = $(`&lt;div id=&quot;html_31a22982132080a3d363d4be51388c91&quot; style=&quot;width: 100.0%; height: 100.0%;&quot;&gt;             City: Kissidougou             Risk Score: 94.65             Risk Category: High             &lt;/div&gt;`)[0];\n",
       "                popup_1649b5891ab2f728780f231aebb367ed.setContent(html_31a22982132080a3d363d4be51388c91);\n",
       "            \n",
       "        \n",
       "\n",
       "        circle_marker_d9adcad39aebc4564e886aec4dbddf17.bindPopup(popup_1649b5891ab2f728780f231aebb367ed)\n",
       "        ;\n",
       "\n",
       "        \n",
       "    \n",
       "    \n",
       "            var circle_marker_3db2ee41590599ca80c87954664f1884 = L.circleMarker(\n",
       "                [11.5833, -11.9],\n",
       "                {&quot;bubblingMouseEvents&quot;: true, &quot;color&quot;: &quot;green&quot;, &quot;dashArray&quot;: null, &quot;dashOffset&quot;: null, &quot;fill&quot;: true, &quot;fillColor&quot;: &quot;green&quot;, &quot;fillOpacity&quot;: 0.7, &quot;fillRule&quot;: &quot;evenodd&quot;, &quot;lineCap&quot;: &quot;round&quot;, &quot;lineJoin&quot;: &quot;round&quot;, &quot;opacity&quot;: 1.0, &quot;radius&quot;: 9.24251037841125, &quot;stroke&quot;: true, &quot;weight&quot;: 3}\n",
       "            ).addTo(marker_cluster_2c2fdb2529a1829c1ea5355db48537dc);\n",
       "        \n",
       "    \n",
       "        var popup_aee533862b44cb0d4d42b48c6af4fd8f = L.popup({&quot;maxWidth&quot;: &quot;100%&quot;});\n",
       "\n",
       "        \n",
       "            \n",
       "                var html_2d51a67eaf07175711d6fe4c2cdc75b8 = $(`&lt;div id=&quot;html_2d51a67eaf07175711d6fe4c2cdc75b8&quot; style=&quot;width: 100.0%; height: 100.0%;&quot;&gt;             City: Koubia             Risk Score: 42.43             Risk Category: Low             &lt;/div&gt;`)[0];\n",
       "                popup_aee533862b44cb0d4d42b48c6af4fd8f.setContent(html_2d51a67eaf07175711d6fe4c2cdc75b8);\n",
       "            \n",
       "        \n",
       "\n",
       "        circle_marker_3db2ee41590599ca80c87954664f1884.bindPopup(popup_aee533862b44cb0d4d42b48c6af4fd8f)\n",
       "        ;\n",
       "\n",
       "        \n",
       "    \n",
       "    \n",
       "            var circle_marker_1f600f94a5d2ff80e4a7a7f71b319a35 = L.circleMarker(\n",
       "                [12.48, -13.296],\n",
       "                {&quot;bubblingMouseEvents&quot;: true, &quot;color&quot;: &quot;red&quot;, &quot;dashArray&quot;: null, &quot;dashOffset&quot;: null, &quot;fill&quot;: true, &quot;fillColor&quot;: &quot;red&quot;, &quot;fillOpacity&quot;: 0.7, &quot;fillRule&quot;: &quot;evenodd&quot;, &quot;lineCap&quot;: &quot;round&quot;, &quot;lineJoin&quot;: &quot;round&quot;, &quot;opacity&quot;: 1.0, &quot;radius&quot;: 13.213957166497398, &quot;stroke&quot;: true, &quot;weight&quot;: 3}\n",
       "            ).addTo(marker_cluster_2c2fdb2529a1829c1ea5355db48537dc);\n",
       "        \n",
       "    \n",
       "        var popup_72cd7d7327f77e0f9ceda599e6ed88c8 = L.popup({&quot;maxWidth&quot;: &quot;100%&quot;});\n",
       "\n",
       "        \n",
       "            \n",
       "                var html_c7f03a0204cc82df621ab69a525432df = $(`&lt;div id=&quot;html_c7f03a0204cc82df621ab69a525432df&quot; style=&quot;width: 100.0%; height: 100.0%;&quot;&gt;             City: Koundara             Risk Score: 82.14             Risk Category: High             &lt;/div&gt;`)[0];\n",
       "                popup_72cd7d7327f77e0f9ceda599e6ed88c8.setContent(html_c7f03a0204cc82df621ab69a525432df);\n",
       "            \n",
       "        \n",
       "\n",
       "        circle_marker_1f600f94a5d2ff80e4a7a7f71b319a35.bindPopup(popup_72cd7d7327f77e0f9ceda599e6ed88c8)\n",
       "        ;\n",
       "\n",
       "        \n",
       "    \n",
       "    \n",
       "            var circle_marker_3b07caef73b0de2d38656d5cd97ca040 = L.circleMarker(\n",
       "                [10.653, -9.892],\n",
       "                {&quot;bubblingMouseEvents&quot;: true, &quot;color&quot;: &quot;red&quot;, &quot;dashArray&quot;: null, &quot;dashOffset&quot;: null, &quot;fill&quot;: true, &quot;fillColor&quot;: &quot;red&quot;, &quot;fillOpacity&quot;: 0.7, &quot;fillRule&quot;: &quot;evenodd&quot;, &quot;lineCap&quot;: &quot;round&quot;, &quot;lineJoin&quot;: &quot;round&quot;, &quot;opacity&quot;: 1.0, &quot;radius&quot;: 13.213439568907344, &quot;stroke&quot;: true, &quot;weight&quot;: 3}\n",
       "            ).addTo(marker_cluster_2c2fdb2529a1829c1ea5355db48537dc);\n",
       "        \n",
       "    \n",
       "        var popup_c62d1758f3485db24550e7bd0a1764e4 = L.popup({&quot;maxWidth&quot;: &quot;100%&quot;});\n",
       "\n",
       "        \n",
       "            \n",
       "                var html_8060a77f5518f9006888fafb5c1981f1 = $(`&lt;div id=&quot;html_8060a77f5518f9006888fafb5c1981f1&quot; style=&quot;width: 100.0%; height: 100.0%;&quot;&gt;             City: Kouroussa             Risk Score: 82.13             Risk Category: High             &lt;/div&gt;`)[0];\n",
       "                popup_c62d1758f3485db24550e7bd0a1764e4.setContent(html_8060a77f5518f9006888fafb5c1981f1);\n",
       "            \n",
       "        \n",
       "\n",
       "        circle_marker_3b07caef73b0de2d38656d5cd97ca040.bindPopup(popup_c62d1758f3485db24550e7bd0a1764e4)\n",
       "        ;\n",
       "\n",
       "        \n",
       "    \n",
       "    \n",
       "            var circle_marker_7a578bf2fb80fc5df2c5dabac0c0c7ff = L.circleMarker(\n",
       "                [9.2704, -9.02],\n",
       "                {&quot;bubblingMouseEvents&quot;: true, &quot;color&quot;: &quot;orange&quot;, &quot;dashArray&quot;: null, &quot;dashOffset&quot;: null, &quot;fill&quot;: true, &quot;fillColor&quot;: &quot;orange&quot;, &quot;fillOpacity&quot;: 0.7, &quot;fillRule&quot;: &quot;evenodd&quot;, &quot;lineCap&quot;: &quot;round&quot;, &quot;lineJoin&quot;: &quot;round&quot;, &quot;opacity&quot;: 1.0, &quot;radius&quot;: 11.216428622491309, &quot;stroke&quot;: true, &quot;weight&quot;: 3}\n",
       "            ).addTo(marker_cluster_2c2fdb2529a1829c1ea5355db48537dc);\n",
       "        \n",
       "    \n",
       "        var popup_5564cb05d7306b10c72f01758460e424 = L.popup({&quot;maxWidth&quot;: &quot;100%&quot;});\n",
       "\n",
       "        \n",
       "            \n",
       "                var html_1d80ad914d197d50e3bf891481be80dc = $(`&lt;div id=&quot;html_1d80ad914d197d50e3bf891481be80dc&quot; style=&quot;width: 100.0%; height: 100.0%;&quot;&gt;             City: Kérouané             Risk Score: 62.16             Risk Category: Medium             &lt;/div&gt;`)[0];\n",
       "                popup_5564cb05d7306b10c72f01758460e424.setContent(html_1d80ad914d197d50e3bf891481be80dc);\n",
       "            \n",
       "        \n",
       "\n",
       "        circle_marker_7a578bf2fb80fc5df2c5dabac0c0c7ff.bindPopup(popup_5564cb05d7306b10c72f01758460e424)\n",
       "        ;\n",
       "\n",
       "        \n",
       "    \n",
       "    \n",
       "            var circle_marker_54b8ded25bde79573bbcef36fe273efb = L.circleMarker(\n",
       "                [11.3167, -12.2833],\n",
       "                {&quot;bubblingMouseEvents&quot;: true, &quot;color&quot;: &quot;orange&quot;, &quot;dashArray&quot;: null, &quot;dashOffset&quot;: null, &quot;fill&quot;: true, &quot;fillColor&quot;: &quot;orange&quot;, &quot;fillOpacity&quot;: 0.7, &quot;fillRule&quot;: &quot;evenodd&quot;, &quot;lineCap&quot;: &quot;round&quot;, &quot;lineJoin&quot;: &quot;round&quot;, &quot;opacity&quot;: 1.0, &quot;radius&quot;: 11.944339006497534, &quot;stroke&quot;: true, &quot;weight&quot;: 3}\n",
       "            ).addTo(marker_cluster_2c2fdb2529a1829c1ea5355db48537dc);\n",
       "        \n",
       "    \n",
       "        var popup_258d99aeee15dea0b6e333d70142433d = L.popup({&quot;maxWidth&quot;: &quot;100%&quot;});\n",
       "\n",
       "        \n",
       "            \n",
       "                var html_3190be0a7776d45f4994b3b931361e16 = $(`&lt;div id=&quot;html_3190be0a7776d45f4994b3b931361e16&quot; style=&quot;width: 100.0%; height: 100.0%;&quot;&gt;             City: Labé             Risk Score: 69.44             Risk Category: Medium             &lt;/div&gt;`)[0];\n",
       "                popup_258d99aeee15dea0b6e333d70142433d.setContent(html_3190be0a7776d45f4994b3b931361e16);\n",
       "            \n",
       "        \n",
       "\n",
       "        circle_marker_54b8ded25bde79573bbcef36fe273efb.bindPopup(popup_258d99aeee15dea0b6e333d70142433d)\n",
       "        ;\n",
       "\n",
       "        \n",
       "    \n",
       "    \n",
       "            var circle_marker_0f5477ec6fec13c2fbde1cde1d4fdd23 = L.circleMarker(\n",
       "                [7.8, -8.5333],\n",
       "                {&quot;bubblingMouseEvents&quot;: true, &quot;color&quot;: &quot;orange&quot;, &quot;dashArray&quot;: null, &quot;dashOffset&quot;: null, &quot;fill&quot;: true, &quot;fillColor&quot;: &quot;orange&quot;, &quot;fillOpacity&quot;: 0.7, &quot;fillRule&quot;: &quot;evenodd&quot;, &quot;lineCap&quot;: &quot;round&quot;, &quot;lineJoin&quot;: &quot;round&quot;, &quot;opacity&quot;: 1.0, &quot;radius&quot;: 12.273924245006267, &quot;stroke&quot;: true, &quot;weight&quot;: 3}\n",
       "            ).addTo(marker_cluster_2c2fdb2529a1829c1ea5355db48537dc);\n",
       "        \n",
       "    \n",
       "        var popup_b4c62af1a1b88231015d4ec9eb40ce36 = L.popup({&quot;maxWidth&quot;: &quot;100%&quot;});\n",
       "\n",
       "        \n",
       "            \n",
       "                var html_1f9e1c75f9dee9d5246f957f36156242 = $(`&lt;div id=&quot;html_1f9e1c75f9dee9d5246f957f36156242&quot; style=&quot;width: 100.0%; height: 100.0%;&quot;&gt;             City: Lola             Risk Score: 72.74             Risk Category: Medium             &lt;/div&gt;`)[0];\n",
       "                popup_b4c62af1a1b88231015d4ec9eb40ce36.setContent(html_1f9e1c75f9dee9d5246f957f36156242);\n",
       "            \n",
       "        \n",
       "\n",
       "        circle_marker_0f5477ec6fec13c2fbde1cde1d4fdd23.bindPopup(popup_b4c62af1a1b88231015d4ec9eb40ce36)\n",
       "        ;\n",
       "\n",
       "        \n",
       "    \n",
       "    \n",
       "            var circle_marker_c713512993285d65973103ae4311fb4b = L.circleMarker(\n",
       "                [11.1833, -12.9333],\n",
       "                {&quot;bubblingMouseEvents&quot;: true, &quot;color&quot;: &quot;green&quot;, &quot;dashArray&quot;: null, &quot;dashOffset&quot;: null, &quot;fill&quot;: true, &quot;fillColor&quot;: &quot;green&quot;, &quot;fillOpacity&quot;: 0.7, &quot;fillRule&quot;: &quot;evenodd&quot;, &quot;lineCap&quot;: &quot;round&quot;, &quot;lineJoin&quot;: &quot;round&quot;, &quot;opacity&quot;: 1.0, &quot;radius&quot;: 7.934929842500333, &quot;stroke&quot;: true, &quot;weight&quot;: 3}\n",
       "            ).addTo(marker_cluster_2c2fdb2529a1829c1ea5355db48537dc);\n",
       "        \n",
       "    \n",
       "        var popup_b857fcb70bfb4979cc17605e49f16fc8 = L.popup({&quot;maxWidth&quot;: &quot;100%&quot;});\n",
       "\n",
       "        \n",
       "            \n",
       "                var html_ff38381d3b91626186df75ee8733858e = $(`&lt;div id=&quot;html_ff38381d3b91626186df75ee8733858e&quot; style=&quot;width: 100.0%; height: 100.0%;&quot;&gt;             City: Lélouma             Risk Score: 29.35             Risk Category: Low             &lt;/div&gt;`)[0];\n",
       "                popup_b857fcb70bfb4979cc17605e49f16fc8.setContent(html_ff38381d3b91626186df75ee8733858e);\n",
       "            \n",
       "        \n",
       "\n",
       "        circle_marker_c713512993285d65973103ae4311fb4b.bindPopup(popup_b857fcb70bfb4979cc17605e49f16fc8)\n",
       "        ;\n",
       "\n",
       "        \n",
       "    \n",
       "    \n",
       "            var circle_marker_e21ae2fe7522cdae5027e066a6ef3664 = L.circleMarker(\n",
       "                [8.5504, -9.48],\n",
       "                {&quot;bubblingMouseEvents&quot;: true, &quot;color&quot;: &quot;orange&quot;, &quot;dashArray&quot;: null, &quot;dashOffset&quot;: null, &quot;fill&quot;: true, &quot;fillColor&quot;: &quot;orange&quot;, &quot;fillOpacity&quot;: 0.7, &quot;fillRule&quot;: &quot;evenodd&quot;, &quot;lineCap&quot;: &quot;round&quot;, &quot;lineJoin&quot;: &quot;round&quot;, &quot;opacity&quot;: 1.0, &quot;radius&quot;: 11.441572852608168, &quot;stroke&quot;: true, &quot;weight&quot;: 3}\n",
       "            ).addTo(marker_cluster_2c2fdb2529a1829c1ea5355db48537dc);\n",
       "        \n",
       "    \n",
       "        var popup_780b7639de00d4a7bfde643c5b5fb5a3 = L.popup({&quot;maxWidth&quot;: &quot;100%&quot;});\n",
       "\n",
       "        \n",
       "            \n",
       "                var html_d7b343ff25138e38ab26fd0e5da51fd0 = $(`&lt;div id=&quot;html_d7b343ff25138e38ab26fd0e5da51fd0&quot; style=&quot;width: 100.0%; height: 100.0%;&quot;&gt;             City: Macenta             Risk Score: 64.42             Risk Category: Medium             &lt;/div&gt;`)[0];\n",
       "                popup_780b7639de00d4a7bfde643c5b5fb5a3.setContent(html_d7b343ff25138e38ab26fd0e5da51fd0);\n",
       "            \n",
       "        \n",
       "\n",
       "        circle_marker_e21ae2fe7522cdae5027e066a6ef3664.bindPopup(popup_780b7639de00d4a7bfde643c5b5fb5a3)\n",
       "        ;\n",
       "\n",
       "        \n",
       "    \n",
       "    \n",
       "            var circle_marker_c39747a7e6851c9bcdc6d551fa9e82f4 = L.circleMarker(\n",
       "                [12.084, -12.301],\n",
       "                {&quot;bubblingMouseEvents&quot;: true, &quot;color&quot;: &quot;red&quot;, &quot;dashArray&quot;: null, &quot;dashOffset&quot;: null, &quot;fill&quot;: true, &quot;fillColor&quot;: &quot;red&quot;, &quot;fillOpacity&quot;: 0.7, &quot;fillRule&quot;: &quot;evenodd&quot;, &quot;lineCap&quot;: &quot;round&quot;, &quot;lineJoin&quot;: &quot;round&quot;, &quot;opacity&quot;: 1.0, &quot;radius&quot;: 13.255349807515731, &quot;stroke&quot;: true, &quot;weight&quot;: 3}\n",
       "            ).addTo(marker_cluster_2c2fdb2529a1829c1ea5355db48537dc);\n",
       "        \n",
       "    \n",
       "        var popup_440f08f0238507e27e6393c545c50827 = L.popup({&quot;maxWidth&quot;: &quot;100%&quot;});\n",
       "\n",
       "        \n",
       "            \n",
       "                var html_0305c11a401014f2192b477e610609ef = $(`&lt;div id=&quot;html_0305c11a401014f2192b477e610609ef&quot; style=&quot;width: 100.0%; height: 100.0%;&quot;&gt;             City: Mali             Risk Score: 82.55             Risk Category: High             &lt;/div&gt;`)[0];\n",
       "                popup_440f08f0238507e27e6393c545c50827.setContent(html_0305c11a401014f2192b477e610609ef);\n",
       "            \n",
       "        \n",
       "\n",
       "        circle_marker_c39747a7e6851c9bcdc6d551fa9e82f4.bindPopup(popup_440f08f0238507e27e6393c545c50827)\n",
       "        ;\n",
       "\n",
       "        \n",
       "    \n",
       "    \n",
       "            var circle_marker_22d52436d11414d6ccd0acb4606f4b25 = L.circleMarker(\n",
       "                [10.3833, -12.0833],\n",
       "                {&quot;bubblingMouseEvents&quot;: true, &quot;color&quot;: &quot;orange&quot;, &quot;dashArray&quot;: null, &quot;dashOffset&quot;: null, &quot;fill&quot;: true, &quot;fillColor&quot;: &quot;orange&quot;, &quot;fillOpacity&quot;: 0.7, &quot;fillRule&quot;: &quot;evenodd&quot;, &quot;lineCap&quot;: &quot;round&quot;, &quot;lineJoin&quot;: &quot;round&quot;, &quot;opacity&quot;: 1.0, &quot;radius&quot;: 12.677400689610861, &quot;stroke&quot;: true, &quot;weight&quot;: 3}\n",
       "            ).addTo(marker_cluster_2c2fdb2529a1829c1ea5355db48537dc);\n",
       "        \n",
       "    \n",
       "        var popup_aefff2a9ad609f8952d5be778010ef8f = L.popup({&quot;maxWidth&quot;: &quot;100%&quot;});\n",
       "\n",
       "        \n",
       "            \n",
       "                var html_45dd0ec4d829fb572d157c98d3819dec = $(`&lt;div id=&quot;html_45dd0ec4d829fb572d157c98d3819dec&quot; style=&quot;width: 100.0%; height: 100.0%;&quot;&gt;             City: Mamou             Risk Score: 76.77             Risk Category: Medium             &lt;/div&gt;`)[0];\n",
       "                popup_aefff2a9ad609f8952d5be778010ef8f.setContent(html_45dd0ec4d829fb572d157c98d3819dec);\n",
       "            \n",
       "        \n",
       "\n",
       "        circle_marker_22d52436d11414d6ccd0acb4606f4b25.bindPopup(popup_aefff2a9ad609f8952d5be778010ef8f)\n",
       "        ;\n",
       "\n",
       "        \n",
       "    \n",
       "    \n",
       "            var circle_marker_caa184553c6c0adc1fd74c0ff24b30e3 = L.circleMarker(\n",
       "                [10.6333, -8.6833],\n",
       "                {&quot;bubblingMouseEvents&quot;: true, &quot;color&quot;: &quot;green&quot;, &quot;dashArray&quot;: null, &quot;dashOffset&quot;: null, &quot;fill&quot;: true, &quot;fillColor&quot;: &quot;green&quot;, &quot;fillOpacity&quot;: 0.7, &quot;fillRule&quot;: &quot;evenodd&quot;, &quot;lineCap&quot;: &quot;round&quot;, &quot;lineJoin&quot;: &quot;round&quot;, &quot;opacity&quot;: 1.0, &quot;radius&quot;: 8.089253481872191, &quot;stroke&quot;: true, &quot;weight&quot;: 3}\n",
       "            ).addTo(marker_cluster_2c2fdb2529a1829c1ea5355db48537dc);\n",
       "        \n",
       "    \n",
       "        var popup_bfe563cf2bd91b9c0b04fade46a7b909 = L.popup({&quot;maxWidth&quot;: &quot;100%&quot;});\n",
       "\n",
       "        \n",
       "            \n",
       "                var html_809cb16b945e5b1469bcff90fd38b414 = $(`&lt;div id=&quot;html_809cb16b945e5b1469bcff90fd38b414&quot; style=&quot;width: 100.0%; height: 100.0%;&quot;&gt;             City: Mandiana             Risk Score: 30.89             Risk Category: Low             &lt;/div&gt;`)[0];\n",
       "                popup_bfe563cf2bd91b9c0b04fade46a7b909.setContent(html_809cb16b945e5b1469bcff90fd38b414);\n",
       "            \n",
       "        \n",
       "\n",
       "        circle_marker_caa184553c6c0adc1fd74c0ff24b30e3.bindPopup(popup_bfe563cf2bd91b9c0b04fade46a7b909)\n",
       "        ;\n",
       "\n",
       "        \n",
       "    \n",
       "    \n",
       "            var circle_marker_430ddc05cc0c72f070ead3e76a07ab1e = L.circleMarker(\n",
       "                [7.75, -8.8167],\n",
       "                {&quot;bubblingMouseEvents&quot;: true, &quot;color&quot;: &quot;red&quot;, &quot;dashArray&quot;: null, &quot;dashOffset&quot;: null, &quot;fill&quot;: true, &quot;fillColor&quot;: &quot;red&quot;, &quot;fillOpacity&quot;: 0.7, &quot;fillRule&quot;: &quot;evenodd&quot;, &quot;lineCap&quot;: &quot;round&quot;, &quot;lineJoin&quot;: &quot;round&quot;, &quot;opacity&quot;: 1.0, &quot;radius&quot;: 13.36044290794575, &quot;stroke&quot;: true, &quot;weight&quot;: 3}\n",
       "            ).addTo(marker_cluster_2c2fdb2529a1829c1ea5355db48537dc);\n",
       "        \n",
       "    \n",
       "        var popup_09fbf2ff16cd8cce0e50ad817caa9b29 = L.popup({&quot;maxWidth&quot;: &quot;100%&quot;});\n",
       "\n",
       "        \n",
       "            \n",
       "                var html_fa70601e634925107581ac996ecd0a94 = $(`&lt;div id=&quot;html_fa70601e634925107581ac996ecd0a94&quot; style=&quot;width: 100.0%; height: 100.0%;&quot;&gt;             City: N’Zérékoré             Risk Score: 83.60             Risk Category: High             &lt;/div&gt;`)[0];\n",
       "                popup_09fbf2ff16cd8cce0e50ad817caa9b29.setContent(html_fa70601e634925107581ac996ecd0a94);\n",
       "            \n",
       "        \n",
       "\n",
       "        circle_marker_430ddc05cc0c72f070ead3e76a07ab1e.bindPopup(popup_09fbf2ff16cd8cce0e50ad817caa9b29)\n",
       "        ;\n",
       "\n",
       "        \n",
       "    \n",
       "    \n",
       "            var circle_marker_ab594dc7f6e545e967750fb5e4037a89 = L.circleMarker(\n",
       "                [11.08, -12.401],\n",
       "                {&quot;bubblingMouseEvents&quot;: true, &quot;color&quot;: &quot;green&quot;, &quot;dashArray&quot;: null, &quot;dashOffset&quot;: null, &quot;fill&quot;: true, &quot;fillColor&quot;: &quot;green&quot;, &quot;fillOpacity&quot;: 0.7, &quot;fillRule&quot;: &quot;evenodd&quot;, &quot;lineCap&quot;: &quot;round&quot;, &quot;lineJoin&quot;: &quot;round&quot;, &quot;opacity&quot;: 1.0, &quot;radius&quot;: 11.055662267827346, &quot;stroke&quot;: true, &quot;weight&quot;: 3}\n",
       "            ).addTo(marker_cluster_2c2fdb2529a1829c1ea5355db48537dc);\n",
       "        \n",
       "    \n",
       "        var popup_2693aa99a89a76298d76fb6020b61153 = L.popup({&quot;maxWidth&quot;: &quot;100%&quot;});\n",
       "\n",
       "        \n",
       "            \n",
       "                var html_8cbf9f6d63e459da866fda56a0b25ee9 = $(`&lt;div id=&quot;html_8cbf9f6d63e459da866fda56a0b25ee9&quot; style=&quot;width: 100.0%; height: 100.0%;&quot;&gt;             City: Pita             Risk Score: 60.56             Risk Category: Low             &lt;/div&gt;`)[0];\n",
       "                popup_2693aa99a89a76298d76fb6020b61153.setContent(html_8cbf9f6d63e459da866fda56a0b25ee9);\n",
       "            \n",
       "        \n",
       "\n",
       "        circle_marker_ab594dc7f6e545e967750fb5e4037a89.bindPopup(popup_2693aa99a89a76298d76fb6020b61153)\n",
       "        ;\n",
       "\n",
       "        \n",
       "    \n",
       "    \n",
       "            var circle_marker_ea5e3381a0a7b36e8dfb2dffb74e241c = L.circleMarker(\n",
       "                [11.4167, -9.1667],\n",
       "                {&quot;bubblingMouseEvents&quot;: true, &quot;color&quot;: &quot;red&quot;, &quot;dashArray&quot;: null, &quot;dashOffset&quot;: null, &quot;fill&quot;: true, &quot;fillColor&quot;: &quot;red&quot;, &quot;fillOpacity&quot;: 0.7, &quot;fillRule&quot;: &quot;evenodd&quot;, &quot;lineCap&quot;: &quot;round&quot;, &quot;lineJoin&quot;: &quot;round&quot;, &quot;opacity&quot;: 1.0, &quot;radius&quot;: 13.58804715264581, &quot;stroke&quot;: true, &quot;weight&quot;: 3}\n",
       "            ).addTo(marker_cluster_2c2fdb2529a1829c1ea5355db48537dc);\n",
       "        \n",
       "    \n",
       "        var popup_c6f052018e91f4e13df7fa97760dd364 = L.popup({&quot;maxWidth&quot;: &quot;100%&quot;});\n",
       "\n",
       "        \n",
       "            \n",
       "                var html_dba4ab2b1871b57d664174a70002b758 = $(`&lt;div id=&quot;html_dba4ab2b1871b57d664174a70002b758&quot; style=&quot;width: 100.0%; height: 100.0%;&quot;&gt;             City: Siguiri             Risk Score: 85.88             Risk Category: High             &lt;/div&gt;`)[0];\n",
       "                popup_c6f052018e91f4e13df7fa97760dd364.setContent(html_dba4ab2b1871b57d664174a70002b758);\n",
       "            \n",
       "        \n",
       "\n",
       "        circle_marker_ea5e3381a0a7b36e8dfb2dffb74e241c.bindPopup(popup_c6f052018e91f4e13df7fa97760dd364)\n",
       "        ;\n",
       "\n",
       "        \n",
       "    \n",
       "    \n",
       "            var circle_marker_ba4f720771c61882750b797e5ca1d4f6 = L.circleMarker(\n",
       "                [11.44, -11.67],\n",
       "                {&quot;bubblingMouseEvents&quot;: true, &quot;color&quot;: &quot;green&quot;, &quot;dashArray&quot;: null, &quot;dashOffset&quot;: null, &quot;fill&quot;: true, &quot;fillColor&quot;: &quot;green&quot;, &quot;fillOpacity&quot;: 0.7, &quot;fillRule&quot;: &quot;evenodd&quot;, &quot;lineCap&quot;: &quot;round&quot;, &quot;lineJoin&quot;: &quot;round&quot;, &quot;opacity&quot;: 1.0, &quot;radius&quot;: 11.081694458401337, &quot;stroke&quot;: true, &quot;weight&quot;: 3}\n",
       "            ).addTo(marker_cluster_2c2fdb2529a1829c1ea5355db48537dc);\n",
       "        \n",
       "    \n",
       "        var popup_32163c3634ba359a66c980bf3dcfe4a9 = L.popup({&quot;maxWidth&quot;: &quot;100%&quot;});\n",
       "\n",
       "        \n",
       "            \n",
       "                var html_fe055bc5879c44565ff2cd0800e38553 = $(`&lt;div id=&quot;html_fe055bc5879c44565ff2cd0800e38553&quot; style=&quot;width: 100.0%; height: 100.0%;&quot;&gt;             City: Tougué             Risk Score: 60.82             Risk Category: Low             &lt;/div&gt;`)[0];\n",
       "                popup_32163c3634ba359a66c980bf3dcfe4a9.setContent(html_fe055bc5879c44565ff2cd0800e38553);\n",
       "            \n",
       "        \n",
       "\n",
       "        circle_marker_ba4f720771c61882750b797e5ca1d4f6.bindPopup(popup_32163c3634ba359a66c980bf3dcfe4a9)\n",
       "        ;\n",
       "\n",
       "        \n",
       "    \n",
       "    \n",
       "            var circle_marker_07be9088208a77fa0f8ceb4cb9674ecd = L.circleMarker(\n",
       "                [10.905, -13.043],\n",
       "                {&quot;bubblingMouseEvents&quot;: true, &quot;color&quot;: &quot;orange&quot;, &quot;dashArray&quot;: null, &quot;dashOffset&quot;: null, &quot;fill&quot;: true, &quot;fillColor&quot;: &quot;orange&quot;, &quot;fillOpacity&quot;: 0.7, &quot;fillRule&quot;: &quot;evenodd&quot;, &quot;lineCap&quot;: &quot;round&quot;, &quot;lineJoin&quot;: &quot;round&quot;, &quot;opacity&quot;: 1.0, &quot;radius&quot;: 12.835987417029353, &quot;stroke&quot;: true, &quot;weight&quot;: 3}\n",
       "            ).addTo(marker_cluster_2c2fdb2529a1829c1ea5355db48537dc);\n",
       "        \n",
       "    \n",
       "        var popup_f51a363477a3ae0bef2445a5f607aaf7 = L.popup({&quot;maxWidth&quot;: &quot;100%&quot;});\n",
       "\n",
       "        \n",
       "            \n",
       "                var html_aaae6f95cf5dfd85c17fa4129497e6d0 = $(`&lt;div id=&quot;html_aaae6f95cf5dfd85c17fa4129497e6d0&quot; style=&quot;width: 100.0%; height: 100.0%;&quot;&gt;             City: Télimélé             Risk Score: 78.36             Risk Category: Medium             &lt;/div&gt;`)[0];\n",
       "                popup_f51a363477a3ae0bef2445a5f607aaf7.setContent(html_aaae6f95cf5dfd85c17fa4129497e6d0);\n",
       "            \n",
       "        \n",
       "\n",
       "        circle_marker_07be9088208a77fa0f8ceb4cb9674ecd.bindPopup(popup_f51a363477a3ae0bef2445a5f607aaf7)\n",
       "        ;\n",
       "\n",
       "        \n",
       "    \n",
       "    \n",
       "            var circle_marker_34cb5d821d3a6b41e3637d2f239145f8 = L.circleMarker(\n",
       "                [7.566, -9.2533],\n",
       "                {&quot;bubblingMouseEvents&quot;: true, &quot;color&quot;: &quot;orange&quot;, &quot;dashArray&quot;: null, &quot;dashOffset&quot;: null, &quot;fill&quot;: true, &quot;fillColor&quot;: &quot;orange&quot;, &quot;fillOpacity&quot;: 0.7, &quot;fillRule&quot;: &quot;evenodd&quot;, &quot;lineCap&quot;: &quot;round&quot;, &quot;lineJoin&quot;: &quot;round&quot;, &quot;opacity&quot;: 1.0, &quot;radius&quot;: 11.290513648118715, &quot;stroke&quot;: true, &quot;weight&quot;: 3}\n",
       "            ).addTo(marker_cluster_2c2fdb2529a1829c1ea5355db48537dc);\n",
       "        \n",
       "    \n",
       "        var popup_a19487a36b01fb4ad8c1a8c0bc0839c4 = L.popup({&quot;maxWidth&quot;: &quot;100%&quot;});\n",
       "\n",
       "        \n",
       "            \n",
       "                var html_3c1ba60a2b52b6079ad0b1d34ee592e4 = $(`&lt;div id=&quot;html_3c1ba60a2b52b6079ad0b1d34ee592e4&quot; style=&quot;width: 100.0%; height: 100.0%;&quot;&gt;             City: Yomou             Risk Score: 62.91             Risk Category: Medium             &lt;/div&gt;`)[0];\n",
       "                popup_a19487a36b01fb4ad8c1a8c0bc0839c4.setContent(html_3c1ba60a2b52b6079ad0b1d34ee592e4);\n",
       "            \n",
       "        \n",
       "\n",
       "        circle_marker_34cb5d821d3a6b41e3637d2f239145f8.bindPopup(popup_a19487a36b01fb4ad8c1a8c0bc0839c4)\n",
       "        ;\n",
       "\n",
       "        \n",
       "    \n",
       "    \n",
       "            marker_cluster_2c2fdb2529a1829c1ea5355db48537dc.addTo(map_ea5b40214b0b6893ac91a69cfb45db60);\n",
       "        \n",
       "    \n",
       "            tile_layer_bc4571dc06e870f8bd9c3f432607f106.addTo(map_ea5b40214b0b6893ac91a69cfb45db60);\n",
       "        \n",
       "    \n",
       "            marker_cluster_2c2fdb2529a1829c1ea5355db48537dc.addTo(map_ea5b40214b0b6893ac91a69cfb45db60);\n",
       "        \n",
       "&lt;/script&gt;\n",
       "&lt;/html&gt;\" style=\"position:absolute;width:100%;height:100%;left:0;top:0;border:none !important;\" allowfullscreen webkitallowfullscreen mozallowfullscreen></iframe></div></div>"
      ],
      "text/plain": [
       "<folium.folium.Map at 0x7f470c2ab050>"
      ]
     },
     "execution_count": 15,
     "metadata": {},
     "output_type": "execute_result"
    }
   ],
   "source": [
    "risk_map = create_folium_risk_map(risk_df)\n",
    "risk_map"
   ]
  },
  {
   "cell_type": "code",
   "execution_count": 17,
   "metadata": {},
   "outputs": [
    {
     "data": {
      "application/vnd.plotly.v1+json": {
       "config": {
        "plotlyServerURL": "https://plot.ly"
       },
       "data": [
        {
         "customdata": [
          [
           44.48928857978893,
           "Low",
           8.6833,
           -8.6333
          ],
          [
           36.36306933341943,
           "Low",
           10.185,
           -14.043
          ],
          [
           0,
           "Low",
           10.94,
           -14.3
          ],
          [
           56.278799655492506,
           "Low",
           9.5092,
           -13.7122
          ],
          [
           55.7228111707394,
           "Low",
           9.7056,
           -13.3769
          ],
          [
           89.47745356972845,
           "High",
           10.75,
           -11.1167
          ],
          [
           47.15418723321789,
           "Low",
           10.656,
           -12.272
          ],
          [
           100,
           "High",
           11.299,
           -10.726
          ],
          [
           67.68150189213088,
           "Medium",
           9.7911,
           -13.5233
          ],
          [
           94.22583387007631,
           "High",
           10.0333,
           -10.7333
          ],
          [
           86.95342983226043,
           "High",
           9.43,
           -13.098
          ],
          [
           71.00940430033596,
           "Medium",
           10.3804,
           -13.55
          ],
          [
           45.27058914793833,
           "Low",
           11.754,
           -13.213
          ],
          [
           72.33608309772251,
           "Medium",
           8.5667,
           -10.1333
          ],
          [
           79.8821596390778,
           "Medium",
           10.3833,
           -9.3
          ],
          [
           86.50636389928994,
           "High",
           10.0497,
           -12.8542
          ],
          [
           94.6505446159889,
           "High",
           9.1905,
           -10.12
          ],
          [
           42.4251037841125,
           "Low",
           11.5833,
           -11.9
          ],
          [
           82.13957166497399,
           "High",
           12.48,
           -13.296
          ],
          [
           82.13439568907344,
           "High",
           10.653,
           -9.892
          ],
          [
           62.16428622491309,
           "Medium",
           9.2704,
           -9.02
          ],
          [
           69.44339006497535,
           "Medium",
           11.3167,
           -12.2833
          ],
          [
           72.73924245006268,
           "Medium",
           7.8,
           -8.5333
          ],
          [
           29.349298425003333,
           "Low",
           11.1833,
           -12.9333
          ],
          [
           64.41572852608168,
           "Medium",
           8.5504,
           -9.48
          ],
          [
           82.55349807515731,
           "High",
           12.084,
           -12.301
          ],
          [
           76.77400689610862,
           "Medium",
           10.3833,
           -12.0833
          ],
          [
           30.892534818721913,
           "Low",
           10.6333,
           -8.6833
          ],
          [
           83.6044290794575,
           "High",
           7.75,
           -8.8167
          ],
          [
           60.55662267827346,
           "Low",
           11.08,
           -12.401
          ],
          [
           85.8804715264581,
           "High",
           11.4167,
           -9.1667
          ],
          [
           60.81694458401338,
           "Low",
           11.44,
           -11.67
          ],
          [
           78.35987417029352,
           "Medium",
           10.905,
           -13.043
          ],
          [
           62.90513648118714,
           "Medium",
           7.566,
           -9.2533
          ]
         ],
         "geo": "geo",
         "hovertemplate": "<b>%{hovertext}</b><br><br>risk_score=%{marker.color:.2f}<br>risk_category=%{customdata[1]}<extra></extra>",
         "hovertext": [
          "Beyla",
          "Boffa",
          "Boké",
          "Conakry",
          "Coyah",
          "Dabola",
          "Dalaba",
          "Dinguiraye",
          "Dubréka",
          "Faranah",
          "Forécariah",
          "Fria",
          "Gaoual",
          "Guéckédou",
          "Kankan",
          "Kindia",
          "Kissidougou",
          "Koubia",
          "Koundara",
          "Kouroussa",
          "Kérouané",
          "Labé",
          "Lola",
          "Lélouma",
          "Macenta",
          "Mali",
          "Mamou",
          "Mandiana",
          "N’Zérékoré",
          "Pita",
          "Siguiri",
          "Tougué",
          "Télimélé",
          "Yomou"
         ],
         "lat": [
          8.6833,
          10.185,
          10.94,
          9.5092,
          9.7056,
          10.75,
          10.656,
          11.299,
          9.7911,
          10.0333,
          9.43,
          10.3804,
          11.754,
          8.5667,
          10.3833,
          10.0497,
          9.1905,
          11.5833,
          12.48,
          10.653,
          9.2704,
          11.3167,
          7.8,
          11.1833,
          8.5504,
          12.084,
          10.3833,
          10.6333,
          7.75,
          11.08,
          11.4167,
          11.44,
          10.905,
          7.566
         ],
         "legendgroup": "",
         "lon": [
          -8.6333,
          -14.043,
          -14.3,
          -13.7122,
          -13.3769,
          -11.1167,
          -12.272,
          -10.726,
          -13.5233,
          -10.7333,
          -13.098,
          -13.55,
          -13.213,
          -10.1333,
          -9.3,
          -12.8542,
          -10.12,
          -11.9,
          -13.296,
          -9.892,
          -9.02,
          -12.2833,
          -8.5333,
          -12.9333,
          -9.48,
          -12.301,
          -12.0833,
          -8.6833,
          -8.8167,
          -12.401,
          -9.1667,
          -11.67,
          -13.043,
          -9.2533
         ],
         "marker": {
          "color": [
           44.48928857978893,
           36.36306933341943,
           0,
           56.278799655492506,
           55.7228111707394,
           89.47745356972845,
           47.15418723321789,
           100,
           67.68150189213088,
           94.22583387007631,
           86.95342983226043,
           71.00940430033596,
           45.27058914793833,
           72.33608309772251,
           79.8821596390778,
           86.50636389928994,
           94.6505446159889,
           42.4251037841125,
           82.13957166497399,
           82.13439568907344,
           62.16428622491309,
           69.44339006497535,
           72.73924245006268,
           29.349298425003333,
           64.41572852608168,
           82.55349807515731,
           76.77400689610862,
           30.892534818721913,
           83.6044290794575,
           60.55662267827346,
           85.8804715264581,
           60.81694458401338,
           78.35987417029352,
           62.90513648118714
          ],
          "coloraxis": "coloraxis",
          "size": [
           44.48928857978893,
           36.36306933341943,
           0,
           56.278799655492506,
           55.7228111707394,
           89.47745356972845,
           47.15418723321789,
           100,
           67.68150189213088,
           94.22583387007631,
           86.95342983226043,
           71.00940430033596,
           45.27058914793833,
           72.33608309772251,
           79.8821596390778,
           86.50636389928994,
           94.6505446159889,
           42.4251037841125,
           82.13957166497399,
           82.13439568907344,
           62.16428622491309,
           69.44339006497535,
           72.73924245006268,
           29.349298425003333,
           64.41572852608168,
           82.55349807515731,
           76.77400689610862,
           30.892534818721913,
           83.6044290794575,
           60.55662267827346,
           85.8804715264581,
           60.81694458401338,
           78.35987417029352,
           62.90513648118714
          ],
          "sizemode": "area",
          "sizeref": 0.25,
          "symbol": "circle"
         },
         "mode": "markers",
         "name": "",
         "showlegend": false,
         "type": "scattergeo"
        }
       ],
       "layout": {
        "coloraxis": {
         "colorbar": {
          "title": {
           "text": "risk_score"
          }
         },
         "colorscale": [
          [
           0,
           "#440154"
          ],
          [
           0.1111111111111111,
           "#482878"
          ],
          [
           0.2222222222222222,
           "#3e4989"
          ],
          [
           0.3333333333333333,
           "#31688e"
          ],
          [
           0.4444444444444444,
           "#26828e"
          ],
          [
           0.5555555555555556,
           "#1f9e89"
          ],
          [
           0.6666666666666666,
           "#35b779"
          ],
          [
           0.7777777777777778,
           "#6ece58"
          ],
          [
           0.8888888888888888,
           "#b5de2b"
          ],
          [
           1,
           "#fde725"
          ]
         ]
        },
        "geo": {
         "center": {},
         "countrycolor": "rgb(204, 204, 204)",
         "domain": {
          "x": [
           0,
           1
          ],
          "y": [
           0,
           1
          ]
         },
         "landcolor": "rgb(243, 243, 243)",
         "projection": {
          "type": "natural earth"
         },
         "showland": true
        },
        "legend": {
         "itemsizing": "constant",
         "tracegroupgap": 0
        },
        "template": {
         "data": {
          "bar": [
           {
            "error_x": {
             "color": "#2a3f5f"
            },
            "error_y": {
             "color": "#2a3f5f"
            },
            "marker": {
             "line": {
              "color": "#E5ECF6",
              "width": 0.5
             },
             "pattern": {
              "fillmode": "overlay",
              "size": 10,
              "solidity": 0.2
             }
            },
            "type": "bar"
           }
          ],
          "barpolar": [
           {
            "marker": {
             "line": {
              "color": "#E5ECF6",
              "width": 0.5
             },
             "pattern": {
              "fillmode": "overlay",
              "size": 10,
              "solidity": 0.2
             }
            },
            "type": "barpolar"
           }
          ],
          "carpet": [
           {
            "aaxis": {
             "endlinecolor": "#2a3f5f",
             "gridcolor": "white",
             "linecolor": "white",
             "minorgridcolor": "white",
             "startlinecolor": "#2a3f5f"
            },
            "baxis": {
             "endlinecolor": "#2a3f5f",
             "gridcolor": "white",
             "linecolor": "white",
             "minorgridcolor": "white",
             "startlinecolor": "#2a3f5f"
            },
            "type": "carpet"
           }
          ],
          "choropleth": [
           {
            "colorbar": {
             "outlinewidth": 0,
             "ticks": ""
            },
            "type": "choropleth"
           }
          ],
          "contour": [
           {
            "colorbar": {
             "outlinewidth": 0,
             "ticks": ""
            },
            "colorscale": [
             [
              0,
              "#0d0887"
             ],
             [
              0.1111111111111111,
              "#46039f"
             ],
             [
              0.2222222222222222,
              "#7201a8"
             ],
             [
              0.3333333333333333,
              "#9c179e"
             ],
             [
              0.4444444444444444,
              "#bd3786"
             ],
             [
              0.5555555555555556,
              "#d8576b"
             ],
             [
              0.6666666666666666,
              "#ed7953"
             ],
             [
              0.7777777777777778,
              "#fb9f3a"
             ],
             [
              0.8888888888888888,
              "#fdca26"
             ],
             [
              1,
              "#f0f921"
             ]
            ],
            "type": "contour"
           }
          ],
          "contourcarpet": [
           {
            "colorbar": {
             "outlinewidth": 0,
             "ticks": ""
            },
            "type": "contourcarpet"
           }
          ],
          "heatmap": [
           {
            "colorbar": {
             "outlinewidth": 0,
             "ticks": ""
            },
            "colorscale": [
             [
              0,
              "#0d0887"
             ],
             [
              0.1111111111111111,
              "#46039f"
             ],
             [
              0.2222222222222222,
              "#7201a8"
             ],
             [
              0.3333333333333333,
              "#9c179e"
             ],
             [
              0.4444444444444444,
              "#bd3786"
             ],
             [
              0.5555555555555556,
              "#d8576b"
             ],
             [
              0.6666666666666666,
              "#ed7953"
             ],
             [
              0.7777777777777778,
              "#fb9f3a"
             ],
             [
              0.8888888888888888,
              "#fdca26"
             ],
             [
              1,
              "#f0f921"
             ]
            ],
            "type": "heatmap"
           }
          ],
          "heatmapgl": [
           {
            "colorbar": {
             "outlinewidth": 0,
             "ticks": ""
            },
            "colorscale": [
             [
              0,
              "#0d0887"
             ],
             [
              0.1111111111111111,
              "#46039f"
             ],
             [
              0.2222222222222222,
              "#7201a8"
             ],
             [
              0.3333333333333333,
              "#9c179e"
             ],
             [
              0.4444444444444444,
              "#bd3786"
             ],
             [
              0.5555555555555556,
              "#d8576b"
             ],
             [
              0.6666666666666666,
              "#ed7953"
             ],
             [
              0.7777777777777778,
              "#fb9f3a"
             ],
             [
              0.8888888888888888,
              "#fdca26"
             ],
             [
              1,
              "#f0f921"
             ]
            ],
            "type": "heatmapgl"
           }
          ],
          "histogram": [
           {
            "marker": {
             "pattern": {
              "fillmode": "overlay",
              "size": 10,
              "solidity": 0.2
             }
            },
            "type": "histogram"
           }
          ],
          "histogram2d": [
           {
            "colorbar": {
             "outlinewidth": 0,
             "ticks": ""
            },
            "colorscale": [
             [
              0,
              "#0d0887"
             ],
             [
              0.1111111111111111,
              "#46039f"
             ],
             [
              0.2222222222222222,
              "#7201a8"
             ],
             [
              0.3333333333333333,
              "#9c179e"
             ],
             [
              0.4444444444444444,
              "#bd3786"
             ],
             [
              0.5555555555555556,
              "#d8576b"
             ],
             [
              0.6666666666666666,
              "#ed7953"
             ],
             [
              0.7777777777777778,
              "#fb9f3a"
             ],
             [
              0.8888888888888888,
              "#fdca26"
             ],
             [
              1,
              "#f0f921"
             ]
            ],
            "type": "histogram2d"
           }
          ],
          "histogram2dcontour": [
           {
            "colorbar": {
             "outlinewidth": 0,
             "ticks": ""
            },
            "colorscale": [
             [
              0,
              "#0d0887"
             ],
             [
              0.1111111111111111,
              "#46039f"
             ],
             [
              0.2222222222222222,
              "#7201a8"
             ],
             [
              0.3333333333333333,
              "#9c179e"
             ],
             [
              0.4444444444444444,
              "#bd3786"
             ],
             [
              0.5555555555555556,
              "#d8576b"
             ],
             [
              0.6666666666666666,
              "#ed7953"
             ],
             [
              0.7777777777777778,
              "#fb9f3a"
             ],
             [
              0.8888888888888888,
              "#fdca26"
             ],
             [
              1,
              "#f0f921"
             ]
            ],
            "type": "histogram2dcontour"
           }
          ],
          "mesh3d": [
           {
            "colorbar": {
             "outlinewidth": 0,
             "ticks": ""
            },
            "type": "mesh3d"
           }
          ],
          "parcoords": [
           {
            "line": {
             "colorbar": {
              "outlinewidth": 0,
              "ticks": ""
             }
            },
            "type": "parcoords"
           }
          ],
          "pie": [
           {
            "automargin": true,
            "type": "pie"
           }
          ],
          "scatter": [
           {
            "fillpattern": {
             "fillmode": "overlay",
             "size": 10,
             "solidity": 0.2
            },
            "type": "scatter"
           }
          ],
          "scatter3d": [
           {
            "line": {
             "colorbar": {
              "outlinewidth": 0,
              "ticks": ""
             }
            },
            "marker": {
             "colorbar": {
              "outlinewidth": 0,
              "ticks": ""
             }
            },
            "type": "scatter3d"
           }
          ],
          "scattercarpet": [
           {
            "marker": {
             "colorbar": {
              "outlinewidth": 0,
              "ticks": ""
             }
            },
            "type": "scattercarpet"
           }
          ],
          "scattergeo": [
           {
            "marker": {
             "colorbar": {
              "outlinewidth": 0,
              "ticks": ""
             }
            },
            "type": "scattergeo"
           }
          ],
          "scattergl": [
           {
            "marker": {
             "colorbar": {
              "outlinewidth": 0,
              "ticks": ""
             }
            },
            "type": "scattergl"
           }
          ],
          "scattermapbox": [
           {
            "marker": {
             "colorbar": {
              "outlinewidth": 0,
              "ticks": ""
             }
            },
            "type": "scattermapbox"
           }
          ],
          "scatterpolar": [
           {
            "marker": {
             "colorbar": {
              "outlinewidth": 0,
              "ticks": ""
             }
            },
            "type": "scatterpolar"
           }
          ],
          "scatterpolargl": [
           {
            "marker": {
             "colorbar": {
              "outlinewidth": 0,
              "ticks": ""
             }
            },
            "type": "scatterpolargl"
           }
          ],
          "scatterternary": [
           {
            "marker": {
             "colorbar": {
              "outlinewidth": 0,
              "ticks": ""
             }
            },
            "type": "scatterternary"
           }
          ],
          "surface": [
           {
            "colorbar": {
             "outlinewidth": 0,
             "ticks": ""
            },
            "colorscale": [
             [
              0,
              "#0d0887"
             ],
             [
              0.1111111111111111,
              "#46039f"
             ],
             [
              0.2222222222222222,
              "#7201a8"
             ],
             [
              0.3333333333333333,
              "#9c179e"
             ],
             [
              0.4444444444444444,
              "#bd3786"
             ],
             [
              0.5555555555555556,
              "#d8576b"
             ],
             [
              0.6666666666666666,
              "#ed7953"
             ],
             [
              0.7777777777777778,
              "#fb9f3a"
             ],
             [
              0.8888888888888888,
              "#fdca26"
             ],
             [
              1,
              "#f0f921"
             ]
            ],
            "type": "surface"
           }
          ],
          "table": [
           {
            "cells": {
             "fill": {
              "color": "#EBF0F8"
             },
             "line": {
              "color": "white"
             }
            },
            "header": {
             "fill": {
              "color": "#C8D4E3"
             },
             "line": {
              "color": "white"
             }
            },
            "type": "table"
           }
          ]
         },
         "layout": {
          "annotationdefaults": {
           "arrowcolor": "#2a3f5f",
           "arrowhead": 0,
           "arrowwidth": 1
          },
          "autotypenumbers": "strict",
          "coloraxis": {
           "colorbar": {
            "outlinewidth": 0,
            "ticks": ""
           }
          },
          "colorscale": {
           "diverging": [
            [
             0,
             "#8e0152"
            ],
            [
             0.1,
             "#c51b7d"
            ],
            [
             0.2,
             "#de77ae"
            ],
            [
             0.3,
             "#f1b6da"
            ],
            [
             0.4,
             "#fde0ef"
            ],
            [
             0.5,
             "#f7f7f7"
            ],
            [
             0.6,
             "#e6f5d0"
            ],
            [
             0.7,
             "#b8e186"
            ],
            [
             0.8,
             "#7fbc41"
            ],
            [
             0.9,
             "#4d9221"
            ],
            [
             1,
             "#276419"
            ]
           ],
           "sequential": [
            [
             0,
             "#0d0887"
            ],
            [
             0.1111111111111111,
             "#46039f"
            ],
            [
             0.2222222222222222,
             "#7201a8"
            ],
            [
             0.3333333333333333,
             "#9c179e"
            ],
            [
             0.4444444444444444,
             "#bd3786"
            ],
            [
             0.5555555555555556,
             "#d8576b"
            ],
            [
             0.6666666666666666,
             "#ed7953"
            ],
            [
             0.7777777777777778,
             "#fb9f3a"
            ],
            [
             0.8888888888888888,
             "#fdca26"
            ],
            [
             1,
             "#f0f921"
            ]
           ],
           "sequentialminus": [
            [
             0,
             "#0d0887"
            ],
            [
             0.1111111111111111,
             "#46039f"
            ],
            [
             0.2222222222222222,
             "#7201a8"
            ],
            [
             0.3333333333333333,
             "#9c179e"
            ],
            [
             0.4444444444444444,
             "#bd3786"
            ],
            [
             0.5555555555555556,
             "#d8576b"
            ],
            [
             0.6666666666666666,
             "#ed7953"
            ],
            [
             0.7777777777777778,
             "#fb9f3a"
            ],
            [
             0.8888888888888888,
             "#fdca26"
            ],
            [
             1,
             "#f0f921"
            ]
           ]
          },
          "colorway": [
           "#636efa",
           "#EF553B",
           "#00cc96",
           "#ab63fa",
           "#FFA15A",
           "#19d3f3",
           "#FF6692",
           "#B6E880",
           "#FF97FF",
           "#FECB52"
          ],
          "font": {
           "color": "#2a3f5f"
          },
          "geo": {
           "bgcolor": "white",
           "lakecolor": "white",
           "landcolor": "#E5ECF6",
           "showlakes": true,
           "showland": true,
           "subunitcolor": "white"
          },
          "hoverlabel": {
           "align": "left"
          },
          "hovermode": "closest",
          "mapbox": {
           "style": "light"
          },
          "paper_bgcolor": "white",
          "plot_bgcolor": "#E5ECF6",
          "polar": {
           "angularaxis": {
            "gridcolor": "white",
            "linecolor": "white",
            "ticks": ""
           },
           "bgcolor": "#E5ECF6",
           "radialaxis": {
            "gridcolor": "white",
            "linecolor": "white",
            "ticks": ""
           }
          },
          "scene": {
           "xaxis": {
            "backgroundcolor": "#E5ECF6",
            "gridcolor": "white",
            "gridwidth": 2,
            "linecolor": "white",
            "showbackground": true,
            "ticks": "",
            "zerolinecolor": "white"
           },
           "yaxis": {
            "backgroundcolor": "#E5ECF6",
            "gridcolor": "white",
            "gridwidth": 2,
            "linecolor": "white",
            "showbackground": true,
            "ticks": "",
            "zerolinecolor": "white"
           },
           "zaxis": {
            "backgroundcolor": "#E5ECF6",
            "gridcolor": "white",
            "gridwidth": 2,
            "linecolor": "white",
            "showbackground": true,
            "ticks": "",
            "zerolinecolor": "white"
           }
          },
          "shapedefaults": {
           "line": {
            "color": "#2a3f5f"
           }
          },
          "ternary": {
           "aaxis": {
            "gridcolor": "white",
            "linecolor": "white",
            "ticks": ""
           },
           "baxis": {
            "gridcolor": "white",
            "linecolor": "white",
            "ticks": ""
           },
           "bgcolor": "#E5ECF6",
           "caxis": {
            "gridcolor": "white",
            "linecolor": "white",
            "ticks": ""
           }
          },
          "title": {
           "x": 0.05
          },
          "xaxis": {
           "automargin": true,
           "gridcolor": "white",
           "linecolor": "white",
           "ticks": "",
           "title": {
            "standoff": 15
           },
           "zerolinecolor": "white",
           "zerolinewidth": 2
          },
          "yaxis": {
           "automargin": true,
           "gridcolor": "white",
           "linecolor": "white",
           "ticks": "",
           "title": {
            "standoff": 15
           },
           "zerolinecolor": "white",
           "zerolinewidth": 2
          }
         }
        },
        "title": {
         "text": "Dengue Risk Scores by City",
         "x": 0.5
        }
       }
      }
     },
     "metadata": {},
     "output_type": "display_data"
    }
   ],
   "source": [
    "# Create visualizations\n",
    "risk_choropleth = create_interactive_risk_choropleth(risk_df)\n",
    "risk_choropleth"
   ]
  }
 ],
 "metadata": {
  "kernelspec": {
   "display_name": "base",
   "language": "python",
   "name": "python3"
  },
  "language_info": {
   "codemirror_mode": {
    "name": "ipython",
    "version": 3
   },
   "file_extension": ".py",
   "mimetype": "text/x-python",
   "name": "python",
   "nbconvert_exporter": "python",
   "pygments_lexer": "ipython3",
   "version": "3.11.7"
  }
 },
 "nbformat": 4,
 "nbformat_minor": 2
}
